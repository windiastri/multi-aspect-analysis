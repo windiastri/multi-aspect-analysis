{
 "cells": [
  {
   "cell_type": "code",
   "execution_count": 1,
   "id": "c54931bd-4974-4def-b2a6-50910261c7b5",
   "metadata": {},
   "outputs": [],
   "source": [
    "import pandas as pd\n",
    "import numpy as np\n",
    "# Libraries for Text Preprocessing\n",
    "import re\n",
    "from keras.preprocessing.text import Tokenizer\n",
    "from keras.preprocessing.sequence import pad_sequences\n",
    "# Libraries for Model\n",
    "from keras.models import Sequential\n",
    "from keras.layers import Conv2D, MaxPooling2D, Flatten, Dense, Embedding, LSTM, SpatialDropout1D\n",
    "from sklearn.model_selection import train_test_split\n",
    "from sklearn import metrics"
   ]
  },
  {
   "cell_type": "code",
   "execution_count": 26,
   "id": "210a4f68-03d1-45b6-9e45-942b7ced5b7a",
   "metadata": {},
   "outputs": [
    {
     "data": {
      "text/html": [
       "<div>\n",
       "<style scoped>\n",
       "    .dataframe tbody tr th:only-of-type {\n",
       "        vertical-align: middle;\n",
       "    }\n",
       "\n",
       "    .dataframe tbody tr th {\n",
       "        vertical-align: top;\n",
       "    }\n",
       "\n",
       "    .dataframe thead th {\n",
       "        text-align: right;\n",
       "    }\n",
       "</style>\n",
       "<table border=\"1\" class=\"dataframe\">\n",
       "  <thead>\n",
       "    <tr style=\"text-align: right;\">\n",
       "      <th></th>\n",
       "      <th>text</th>\n",
       "      <th>aspek</th>\n",
       "      <th>sentiment</th>\n",
       "      <th>hotel</th>\n",
       "      <th>lokasi</th>\n",
       "      <th>kamar</th>\n",
       "      <th>pelayanan</th>\n",
       "      <th>makanan</th>\n",
       "      <th>harga</th>\n",
       "    </tr>\n",
       "  </thead>\n",
       "  <tbody>\n",
       "    <tr>\n",
       "      <th>0</th>\n",
       "      <td>shuttle gratis malioboro</td>\n",
       "      <td>harga</td>\n",
       "      <td>positive</td>\n",
       "      <td>0</td>\n",
       "      <td>0</td>\n",
       "      <td>0</td>\n",
       "      <td>0</td>\n",
       "      <td>0</td>\n",
       "      <td>1</td>\n",
       "    </tr>\n",
       "    <tr>\n",
       "      <th>1</th>\n",
       "      <td>dapat gratis course golf</td>\n",
       "      <td>harga</td>\n",
       "      <td>positive</td>\n",
       "      <td>0</td>\n",
       "      <td>0</td>\n",
       "      <td>0</td>\n",
       "      <td>0</td>\n",
       "      <td>0</td>\n",
       "      <td>1</td>\n",
       "    </tr>\n",
       "    <tr>\n",
       "      <th>2</th>\n",
       "      <td>gratis andong keliling</td>\n",
       "      <td>harga</td>\n",
       "      <td>positive</td>\n",
       "      <td>0</td>\n",
       "      <td>0</td>\n",
       "      <td>0</td>\n",
       "      <td>0</td>\n",
       "      <td>0</td>\n",
       "      <td>1</td>\n",
       "    </tr>\n",
       "    <tr>\n",
       "      <th>3</th>\n",
       "      <td>sesuai harga</td>\n",
       "      <td>harga</td>\n",
       "      <td>positive</td>\n",
       "      <td>0</td>\n",
       "      <td>0</td>\n",
       "      <td>0</td>\n",
       "      <td>0</td>\n",
       "      <td>0</td>\n",
       "      <td>1</td>\n",
       "    </tr>\n",
       "    <tr>\n",
       "      <th>4</th>\n",
       "      <td>harga terjangkau</td>\n",
       "      <td>harga</td>\n",
       "      <td>positive</td>\n",
       "      <td>0</td>\n",
       "      <td>0</td>\n",
       "      <td>0</td>\n",
       "      <td>0</td>\n",
       "      <td>0</td>\n",
       "      <td>1</td>\n",
       "    </tr>\n",
       "  </tbody>\n",
       "</table>\n",
       "</div>"
      ],
      "text/plain": [
       "                       text  aspek sentiment  hotel  lokasi  kamar  pelayanan  \\\n",
       "0  shuttle gratis malioboro  harga  positive      0       0      0          0   \n",
       "1  dapat gratis course golf  harga  positive      0       0      0          0   \n",
       "2    gratis andong keliling  harga  positive      0       0      0          0   \n",
       "3              sesuai harga  harga  positive      0       0      0          0   \n",
       "4          harga terjangkau  harga  positive      0       0      0          0   \n",
       "\n",
       "   makanan  harga  \n",
       "0        0      1  \n",
       "1        0      1  \n",
       "2        0      1  \n",
       "3        0      1  \n",
       "4        0      1  "
      ]
     },
     "execution_count": 26,
     "metadata": {},
     "output_type": "execute_result"
    }
   ],
   "source": [
    "data_set = pd.read_csv('./data_training/dataset_6.csv')\n",
    "data_set.head()"
   ]
  },
  {
   "cell_type": "code",
   "execution_count": 25,
   "id": "91681e8d-2f53-4e5d-a743-2448c5af34d4",
   "metadata": {},
   "outputs": [
    {
     "name": "stdout",
     "output_type": "stream",
     "text": [
      "[[ 542   43  112 ...    0    0    0]\n",
      " [  42   43 1199 ...    0    0    0]\n",
      " [  43  970  618 ...    0    0    0]\n",
      " ...\n",
      " [ 537    7  156 ...    0    0    0]\n",
      " [   1    2  115 ...    0    0    0]\n",
      " [   9    1   17 ...    0    0    0]]\n"
     ]
    }
   ],
   "source": [
    "tokenizer=Tokenizer(1500)\n",
    "tokenizer.fit_on_texts(data_set[\"text\"].values)\n",
    "X=tokenizer.texts_to_sequences(data_set[\"text\"].values)\n",
    "X=pad_sequences(X, maxlen=31, padding='post')\n",
    "vocab_size = len(tokenizer.word_index) + 1\n",
    "data_set.head()\n",
    "print(X)\n",
    "# print(X.shape)\n",
    "# print(vocab_size)"
   ]
  },
  {
   "cell_type": "code",
   "execution_count": 19,
   "id": "cc80ddc8",
   "metadata": {},
   "outputs": [
    {
     "ename": "ValueError",
     "evalue": "array length 31 does not match index length 5378",
     "output_type": "error",
     "traceback": [
      "\u001b[0;31m---------------------------------------------------------------------------\u001b[0m",
      "\u001b[0;31mValueError\u001b[0m                                Traceback (most recent call last)",
      "\u001b[0;32m<ipython-input-19-f6af49443ee5>\u001b[0m in \u001b[0;36m<module>\u001b[0;34m\u001b[0m\n\u001b[0;32m----> 1\u001b[0;31m tokenize_text = pd.DataFrame({\n\u001b[0m\u001b[1;32m      2\u001b[0m     \u001b[0;34m'original_text'\u001b[0m\u001b[0;34m:\u001b[0m\u001b[0mdata_set\u001b[0m\u001b[0;34m[\u001b[0m\u001b[0;34m\"text\"\u001b[0m\u001b[0;34m]\u001b[0m\u001b[0;34m,\u001b[0m\u001b[0;34m\u001b[0m\u001b[0;34m\u001b[0m\u001b[0m\n\u001b[1;32m      3\u001b[0m     \u001b[0;34m'tokenized_text'\u001b[0m\u001b[0;34m:\u001b[0m\u001b[0mX\u001b[0m\u001b[0;34m[\u001b[0m\u001b[0;36m0\u001b[0m\u001b[0;34m]\u001b[0m\u001b[0;34m\u001b[0m\u001b[0;34m\u001b[0m\u001b[0m\n\u001b[1;32m      4\u001b[0m })\n\u001b[1;32m      5\u001b[0m \u001b[0mtokenize_text\u001b[0m\u001b[0;34m.\u001b[0m\u001b[0mhead\u001b[0m\u001b[0;34m(\u001b[0m\u001b[0;36m20\u001b[0m\u001b[0;34m)\u001b[0m\u001b[0;34m\u001b[0m\u001b[0;34m\u001b[0m\u001b[0m\n",
      "\u001b[0;32m/usr/local/lib/python3.9/site-packages/pandas/core/frame.py\u001b[0m in \u001b[0;36m__init__\u001b[0;34m(self, data, index, columns, dtype, copy)\u001b[0m\n\u001b[1;32m    612\u001b[0m         \u001b[0;32melif\u001b[0m \u001b[0misinstance\u001b[0m\u001b[0;34m(\u001b[0m\u001b[0mdata\u001b[0m\u001b[0;34m,\u001b[0m \u001b[0mdict\u001b[0m\u001b[0;34m)\u001b[0m\u001b[0;34m:\u001b[0m\u001b[0;34m\u001b[0m\u001b[0;34m\u001b[0m\u001b[0m\n\u001b[1;32m    613\u001b[0m             \u001b[0;31m# GH#38939 de facto copy defaults to False only in non-dict cases\u001b[0m\u001b[0;34m\u001b[0m\u001b[0;34m\u001b[0m\u001b[0;34m\u001b[0m\u001b[0m\n\u001b[0;32m--> 614\u001b[0;31m             \u001b[0mmgr\u001b[0m \u001b[0;34m=\u001b[0m \u001b[0mdict_to_mgr\u001b[0m\u001b[0;34m(\u001b[0m\u001b[0mdata\u001b[0m\u001b[0;34m,\u001b[0m \u001b[0mindex\u001b[0m\u001b[0;34m,\u001b[0m \u001b[0mcolumns\u001b[0m\u001b[0;34m,\u001b[0m \u001b[0mdtype\u001b[0m\u001b[0;34m=\u001b[0m\u001b[0mdtype\u001b[0m\u001b[0;34m,\u001b[0m \u001b[0mcopy\u001b[0m\u001b[0;34m=\u001b[0m\u001b[0mcopy\u001b[0m\u001b[0;34m,\u001b[0m \u001b[0mtyp\u001b[0m\u001b[0;34m=\u001b[0m\u001b[0mmanager\u001b[0m\u001b[0;34m)\u001b[0m\u001b[0;34m\u001b[0m\u001b[0;34m\u001b[0m\u001b[0m\n\u001b[0m\u001b[1;32m    615\u001b[0m         \u001b[0;32melif\u001b[0m \u001b[0misinstance\u001b[0m\u001b[0;34m(\u001b[0m\u001b[0mdata\u001b[0m\u001b[0;34m,\u001b[0m \u001b[0mma\u001b[0m\u001b[0;34m.\u001b[0m\u001b[0mMaskedArray\u001b[0m\u001b[0;34m)\u001b[0m\u001b[0;34m:\u001b[0m\u001b[0;34m\u001b[0m\u001b[0;34m\u001b[0m\u001b[0m\n\u001b[1;32m    616\u001b[0m             \u001b[0;32mimport\u001b[0m \u001b[0mnumpy\u001b[0m\u001b[0;34m.\u001b[0m\u001b[0mma\u001b[0m\u001b[0;34m.\u001b[0m\u001b[0mmrecords\u001b[0m \u001b[0;32mas\u001b[0m \u001b[0mmrecords\u001b[0m\u001b[0;34m\u001b[0m\u001b[0;34m\u001b[0m\u001b[0m\n",
      "\u001b[0;32m/usr/local/lib/python3.9/site-packages/pandas/core/internals/construction.py\u001b[0m in \u001b[0;36mdict_to_mgr\u001b[0;34m(data, index, columns, dtype, typ, copy)\u001b[0m\n\u001b[1;32m    462\u001b[0m         \u001b[0;31m# TODO: can we get rid of the dt64tz special case above?\u001b[0m\u001b[0;34m\u001b[0m\u001b[0;34m\u001b[0m\u001b[0;34m\u001b[0m\u001b[0m\n\u001b[1;32m    463\u001b[0m \u001b[0;34m\u001b[0m\u001b[0m\n\u001b[0;32m--> 464\u001b[0;31m     return arrays_to_mgr(\n\u001b[0m\u001b[1;32m    465\u001b[0m         \u001b[0marrays\u001b[0m\u001b[0;34m,\u001b[0m \u001b[0mdata_names\u001b[0m\u001b[0;34m,\u001b[0m \u001b[0mindex\u001b[0m\u001b[0;34m,\u001b[0m \u001b[0mcolumns\u001b[0m\u001b[0;34m,\u001b[0m \u001b[0mdtype\u001b[0m\u001b[0;34m=\u001b[0m\u001b[0mdtype\u001b[0m\u001b[0;34m,\u001b[0m \u001b[0mtyp\u001b[0m\u001b[0;34m=\u001b[0m\u001b[0mtyp\u001b[0m\u001b[0;34m,\u001b[0m \u001b[0mconsolidate\u001b[0m\u001b[0;34m=\u001b[0m\u001b[0mcopy\u001b[0m\u001b[0;34m\u001b[0m\u001b[0;34m\u001b[0m\u001b[0m\n\u001b[1;32m    466\u001b[0m     )\n",
      "\u001b[0;32m/usr/local/lib/python3.9/site-packages/pandas/core/internals/construction.py\u001b[0m in \u001b[0;36marrays_to_mgr\u001b[0;34m(arrays, arr_names, index, columns, dtype, verify_integrity, typ, consolidate)\u001b[0m\n\u001b[1;32m    117\u001b[0m         \u001b[0;31m# figure out the index, if necessary\u001b[0m\u001b[0;34m\u001b[0m\u001b[0;34m\u001b[0m\u001b[0;34m\u001b[0m\u001b[0m\n\u001b[1;32m    118\u001b[0m         \u001b[0;32mif\u001b[0m \u001b[0mindex\u001b[0m \u001b[0;32mis\u001b[0m \u001b[0;32mNone\u001b[0m\u001b[0;34m:\u001b[0m\u001b[0;34m\u001b[0m\u001b[0;34m\u001b[0m\u001b[0m\n\u001b[0;32m--> 119\u001b[0;31m             \u001b[0mindex\u001b[0m \u001b[0;34m=\u001b[0m \u001b[0m_extract_index\u001b[0m\u001b[0;34m(\u001b[0m\u001b[0marrays\u001b[0m\u001b[0;34m)\u001b[0m\u001b[0;34m\u001b[0m\u001b[0;34m\u001b[0m\u001b[0m\n\u001b[0m\u001b[1;32m    120\u001b[0m         \u001b[0;32melse\u001b[0m\u001b[0;34m:\u001b[0m\u001b[0;34m\u001b[0m\u001b[0;34m\u001b[0m\u001b[0m\n\u001b[1;32m    121\u001b[0m             \u001b[0mindex\u001b[0m \u001b[0;34m=\u001b[0m \u001b[0mensure_index\u001b[0m\u001b[0;34m(\u001b[0m\u001b[0mindex\u001b[0m\u001b[0;34m)\u001b[0m\u001b[0;34m\u001b[0m\u001b[0;34m\u001b[0m\u001b[0m\n",
      "\u001b[0;32m/usr/local/lib/python3.9/site-packages/pandas/core/internals/construction.py\u001b[0m in \u001b[0;36m_extract_index\u001b[0;34m(data)\u001b[0m\n\u001b[1;32m    647\u001b[0m                         \u001b[0;34mf\"length {len(index)}\"\u001b[0m\u001b[0;34m\u001b[0m\u001b[0;34m\u001b[0m\u001b[0m\n\u001b[1;32m    648\u001b[0m                     )\n\u001b[0;32m--> 649\u001b[0;31m                     \u001b[0;32mraise\u001b[0m \u001b[0mValueError\u001b[0m\u001b[0;34m(\u001b[0m\u001b[0mmsg\u001b[0m\u001b[0;34m)\u001b[0m\u001b[0;34m\u001b[0m\u001b[0;34m\u001b[0m\u001b[0m\n\u001b[0m\u001b[1;32m    650\u001b[0m             \u001b[0;32melse\u001b[0m\u001b[0;34m:\u001b[0m\u001b[0;34m\u001b[0m\u001b[0;34m\u001b[0m\u001b[0m\n\u001b[1;32m    651\u001b[0m                 \u001b[0mindex\u001b[0m \u001b[0;34m=\u001b[0m \u001b[0mibase\u001b[0m\u001b[0;34m.\u001b[0m\u001b[0mdefault_index\u001b[0m\u001b[0;34m(\u001b[0m\u001b[0mlengths\u001b[0m\u001b[0;34m[\u001b[0m\u001b[0;36m0\u001b[0m\u001b[0;34m]\u001b[0m\u001b[0;34m)\u001b[0m\u001b[0;34m\u001b[0m\u001b[0;34m\u001b[0m\u001b[0m\n",
      "\u001b[0;31mValueError\u001b[0m: array length 31 does not match index length 5378"
     ]
    }
   ],
   "source": [
    "tokenize_text = pd.DataFrame({\n",
    "    'original_text':data_set[\"text\"],\n",
    "    'tokenized_text':X[0]\n",
    "})\n",
    "tokenize_text.head(20)\n",
    "# print(prediction_sentiment_result_convert)"
   ]
  },
  {
   "cell_type": "code",
   "execution_count": 7,
   "id": "a4c4b43c-5245-467e-b2cf-b40531dd82b4",
   "metadata": {},
   "outputs": [],
   "source": [
    "y=pd.get_dummies(data_set[[\"sentiment\"]])\n",
    "\n",
    "# switch values for data aspect makanan\n",
    "new_column_order = ['sentiment_positive', 'sentiment_negative']\n",
    "y = y[new_column_order]\n",
    "\n",
    "# Split the data into training and testing sets\n",
    "x_train,x_test,y_train,y_test = train_test_split(X, y, test_size=0.2, random_state=42)"
   ]
  },
  {
   "cell_type": "code",
   "execution_count": 13,
   "id": "6eb914f5-fa2a-445f-bf4b-177315f0ab0d",
   "metadata": {},
   "outputs": [
    {
     "name": "stdout",
     "output_type": "stream",
     "text": [
      "Epoch 1/10\n",
      "135/135 [==============================] - 7s 36ms/step - loss: 0.6937 - acc: 0.4981 - val_loss: 0.6931 - val_acc: 0.5065\n",
      "Epoch 2/10\n",
      "135/135 [==============================] - 5s 37ms/step - loss: 0.6935 - acc: 0.5091 - val_loss: 0.6928 - val_acc: 0.5065\n",
      "Epoch 3/10\n",
      "135/135 [==============================] - 4s 30ms/step - loss: 0.6588 - acc: 0.5918 - val_loss: 0.6550 - val_acc: 0.5836\n",
      "Epoch 4/10\n",
      "135/135 [==============================] - 4s 30ms/step - loss: 0.6435 - acc: 0.6041 - val_loss: 0.5980 - val_acc: 0.6682\n",
      "Epoch 5/10\n",
      "135/135 [==============================] - 4s 30ms/step - loss: 0.6217 - acc: 0.6427 - val_loss: 0.5824 - val_acc: 0.6822\n",
      "Epoch 6/10\n",
      "135/135 [==============================] - 4s 29ms/step - loss: 0.5851 - acc: 0.6943 - val_loss: 0.6835 - val_acc: 0.5827\n",
      "Epoch 7/10\n",
      "135/135 [==============================] - 4s 30ms/step - loss: 0.6737 - acc: 0.5270 - val_loss: 0.6737 - val_acc: 0.5437\n",
      "Epoch 8/10\n",
      "135/135 [==============================] - 4s 30ms/step - loss: 0.6312 - acc: 0.6025 - val_loss: 0.6048 - val_acc: 0.6292\n",
      "Epoch 9/10\n",
      "135/135 [==============================] - 4s 30ms/step - loss: 0.6321 - acc: 0.6146 - val_loss: 0.6857 - val_acc: 0.5028\n",
      "Epoch 10/10\n",
      "135/135 [==============================] - 4s 30ms/step - loss: 0.6265 - acc: 0.6755 - val_loss: 0.4678 - val_acc: 0.8383\n"
     ]
    }
   ],
   "source": [
    "import tensorflow as tf\n",
    "\n",
    "model = Sequential()\n",
    "model.add(Embedding(vocab_size, 32,input_length = 31))\n",
    "model.add(SpatialDropout1D(0.8))\n",
    "model.add(LSTM(64, dropout=0.4, recurrent_dropout=0.2))\n",
    "model.add(Dense(2,activation='sigmoid'))\n",
    "model.compile(optimizer='adam', loss='binary_crossentropy', metrics=['acc'])\n",
    "history = model.fit(\n",
    "    x_train,\n",
    "    y_train,\n",
    "    epochs=10,\n",
    "    batch_size=32,\n",
    "    validation_data=(x_test, y_test)\n",
    ")"
   ]
  },
  {
   "cell_type": "code",
   "execution_count": 158,
   "id": "8853f09d-5df8-4a69-a4fe-79bc0cb3d47f",
   "metadata": {},
   "outputs": [
    {
     "name": "stdout",
     "output_type": "stream",
     "text": [
      "prediction:  [0 1]\n"
     ]
    }
   ],
   "source": [
    "# # Hotel yang nyaman, tempat tidur besar, toilet bersih, sarapan enak dan variasi makanan lumayan banyak. \n",
    "# review_test=['pelayanan sangat baik dan ramah pada pengunjung.']\n",
    "review_test = ['kamar pengap tidak ada jendela yang memadai']\n",
    "review_tok=tokenizer.texts_to_sequences(review_test)\n",
    "review_pad=pad_sequences(review_tok,maxlen=31,padding='post')\n",
    "prediction=model.predict(review_pad).flatten()\n",
    "\n",
    "# Convert probabilities to binary class labels\n",
    "threshold = 0.5\n",
    "prediction = tf.nn.softmax(prediction)\n",
    "prediction = tf.where(prediction < threshold, 0, 1)\n",
    "\n",
    "print(\"prediction: \", prediction.numpy())"
   ]
  },
  {
   "cell_type": "code",
   "execution_count": 140,
   "id": "0efabb3d-b42b-4eff-93be-bb63534badfa",
   "metadata": {},
   "outputs": [],
   "source": [
    "model.save('sentiment_aspek.h5')"
   ]
  },
  {
   "cell_type": "code",
   "execution_count": 1,
   "id": "e48d41f2-f92a-429b-93ab-5e286e586ed3",
   "metadata": {},
   "outputs": [
    {
     "ename": "NameError",
     "evalue": "name 'pd' is not defined",
     "output_type": "error",
     "traceback": [
      "\u001b[0;31m---------------------------------------------------------------------------\u001b[0m",
      "\u001b[0;31mNameError\u001b[0m                                 Traceback (most recent call last)",
      "\u001b[0;32m<ipython-input-1-5822725bc2cf>\u001b[0m in \u001b[0;36m<module>\u001b[0;34m\u001b[0m\n\u001b[1;32m      1\u001b[0m \u001b[0;32mimport\u001b[0m \u001b[0mneattext\u001b[0m\u001b[0;34m.\u001b[0m\u001b[0mfunctions\u001b[0m \u001b[0;32mas\u001b[0m \u001b[0mnfx\u001b[0m\u001b[0;34m\u001b[0m\u001b[0;34m\u001b[0m\u001b[0m\n\u001b[1;32m      2\u001b[0m \u001b[0;34m\u001b[0m\u001b[0m\n\u001b[0;32m----> 3\u001b[0;31m \u001b[0mdata_validation\u001b[0m \u001b[0;34m=\u001b[0m \u001b[0mpd\u001b[0m\u001b[0;34m.\u001b[0m\u001b[0mread_excel\u001b[0m\u001b[0;34m(\u001b[0m\u001b[0;34m'validation_sentimen.xlsx'\u001b[0m\u001b[0;34m)\u001b[0m\u001b[0;34m\u001b[0m\u001b[0;34m\u001b[0m\u001b[0m\n\u001b[0m\u001b[1;32m      4\u001b[0m \u001b[0mdata_validation\u001b[0m\u001b[0;34m.\u001b[0m\u001b[0mtail\u001b[0m\u001b[0;34m(\u001b[0m\u001b[0;34m)\u001b[0m\u001b[0;34m\u001b[0m\u001b[0;34m\u001b[0m\u001b[0m\n\u001b[1;32m      5\u001b[0m \u001b[0;34m\u001b[0m\u001b[0m\n",
      "\u001b[0;31mNameError\u001b[0m: name 'pd' is not defined"
     ]
    }
   ],
   "source": [
    "import neattext.functions as nfx\n",
    "\n",
    "data_validation = pd.read_excel('validation_sentimen.xlsx')\n",
    "data_validation.tail()\n",
    "\n",
    "def cleaning(text):\n",
    "    text = re.sub(r'\\n',' ',text) # Hapus \\n (enter)\n",
    "    text = nfx.remove_hashtags(text) # Hapus hashtags\n",
    "    text = nfx.remove_numbers(text) # Hapus number\n",
    "    text = text.strip() # Hapus Whitespace\n",
    "    text = re.sub('[^0-9a-zA-Z]+', ' ', text) # Hapus karakter selain alfabet dan angka\n",
    "    return text\n",
    "\n",
    "def casefolding(text):\n",
    "    return text.lower()\n",
    "\n",
    "data_validation['content_cleaned'] = data_validation['Text'].apply(cleaning).apply(casefolding)\n",
    "\n",
    "data_validation.head()"
   ]
  },
  {
   "cell_type": "code",
   "execution_count": 181,
   "id": "888dfbc6-3b1e-4e25-b33e-8068bb21b72e",
   "metadata": {},
   "outputs": [
    {
     "name": "stdout",
     "output_type": "stream",
     "text": [
      "[1, 1, 1, 1, 1, 1, 1, 1, 1, 1, 1, 0, 1, 1, 1, 1, 0, 1, 1, 1, 1, 1, 1, 1, 1, 0, 1, 1, 1, 1, 1, 1, 1, 1, 1, 1, 0, 1, 0, 0, 1, 0, 1, 0, 1, 0, 1, 1, 0, 0, 0, 0, 1, 0, 0, 1, 0, 0, 0, 1, 0, 0, 0, 0, 1, 1, 1, 1]\n"
     ]
    }
   ],
   "source": [
    "tokenizer.fit_on_texts(data_validation['content_cleaned'])\n",
    "X=tokenizer.texts_to_sequences(data_validation['content_cleaned'])\n",
    "X=pad_sequences(X, maxlen=31, padding='post')\n",
    "\n",
    "threshold = 0.5\n",
    "prediction_result = []\n",
    "\n",
    "predictions_label = model.predict(X)\n",
    "predictions_label = tf.where(predictions_label < threshold, 0, 1)\n",
    "\n",
    "for result in predictions_label:\n",
    "    prediction_result.append(result[0].numpy())\n",
    "\n",
    "print(prediction_result)"
   ]
  },
  {
   "cell_type": "code",
   "execution_count": 182,
   "id": "855594b7-f294-418a-a0d5-ba1d25fdc3f6",
   "metadata": {},
   "outputs": [
    {
     "name": "stdout",
     "output_type": "stream",
     "text": [
      "       False  True\n",
      "False     19     3\n",
      "True      13    33\n"
     ]
    },
    {
     "data": {
      "image/png": "[encoded data removed]",
      "text/plain": [
       "<Figure size 432x288 with 2 Axes>"
      ]
     },
     "metadata": {
      "needs_background": "light"
     },
     "output_type": "display_data"
    }
   ],
   "source": [
    "from sklearn.metrics import confusion_matrix\n",
    "import seaborn as sns\n",
    "import matplotlib.pyplot as plt\n",
    "\n",
    "data = data_validation['Sentimen'].tolist()\n",
    "sentiment_mapping = {'positive': 1, 'negative': 0}\n",
    "actual_sentiment = [sentiment_mapping[sentiment] for sentiment in data]\n",
    "\n",
    "# Membuat confusion matrix\n",
    "confusion_mat = confusion_matrix(prediction_result, actual_sentiment)\n",
    "\n",
    "confusion_df = pd.DataFrame(confusion_mat, index=['False', 'True'], columns=['False', 'True'])\n",
    "print(confusion_df)\n",
    "\n",
    "# Visualisasi confusion matrix\n",
    "sns.heatmap(confusion_df, annot=True, cmap='Blues')\n",
    "plt.xlabel('Predicted')\n",
    "plt.ylabel('Actual')\n",
    "plt.title('Confusion Matrix')\n",
    "plt.show()"
   ]
  },
  {
   "cell_type": "code",
   "execution_count": 183,
   "id": "710b04f0-35d9-4c7a-b837-846aab501a50",
   "metadata": {},
   "outputs": [
    {
     "name": "stdout",
     "output_type": "stream",
     "text": [
      "Accuracy : 0.7647058823529411\n",
      "F1_score : 0.8048780487804877\n"
     ]
    }
   ],
   "source": [
    "Accuracy = metrics.accuracy_score(actual_sentiment, prediction_result)\n",
    "F1_score = metrics.f1_score(actual_sentiment, prediction_result)\n",
    "print(\"Accuracy :\", Accuracy)\n",
    "print(\"F1_score :\", F1_score)"
   ]
  },
  {
   "cell_type": "code",
   "execution_count": 192,
   "id": "07c78fc6-5906-497d-9347-fcb687580321",
   "metadata": {},
   "outputs": [
    {
     "data": {
      "text/html": [
       "<div>\n",
       "<style scoped>\n",
       "    .dataframe tbody tr th:only-of-type {\n",
       "        vertical-align: middle;\n",
       "    }\n",
       "\n",
       "    .dataframe tbody tr th {\n",
       "        vertical-align: top;\n",
       "    }\n",
       "\n",
       "    .dataframe thead th {\n",
       "        text-align: right;\n",
       "    }\n",
       "</style>\n",
       "<table border=\"1\" class=\"dataframe\">\n",
       "  <thead>\n",
       "    <tr style=\"text-align: right;\">\n",
       "      <th></th>\n",
       "      <th>original_text</th>\n",
       "      <th>text_cleaned</th>\n",
       "      <th>actual_sentiment</th>\n",
       "      <th>predicted_sentiment</th>\n",
       "    </tr>\n",
       "  </thead>\n",
       "  <tbody>\n",
       "    <tr>\n",
       "      <th>0</th>\n",
       "      <td>Kamar yg bersih, fasilitas oke lokasi dekat dg...</td>\n",
       "      <td>kamar yg bersih fasilitas oke lokasi dekat dg ...</td>\n",
       "      <td>1</td>\n",
       "      <td>1</td>\n",
       "    </tr>\n",
       "    <tr>\n",
       "      <th>1</th>\n",
       "      <td>Staffnya ramah dan sigap, untuk menu makanan j...</td>\n",
       "      <td>staffnya ramah dan sigap untuk menu makanan ju...</td>\n",
       "      <td>1</td>\n",
       "      <td>1</td>\n",
       "    </tr>\n",
       "    <tr>\n",
       "      <th>2</th>\n",
       "      <td>Super duper ramah all staff.nya. Hotelnya bers...</td>\n",
       "      <td>super duper ramah all staff nya hotelnya bersi...</td>\n",
       "      <td>1</td>\n",
       "      <td>1</td>\n",
       "    </tr>\n",
       "    <tr>\n",
       "      <th>3</th>\n",
       "      <td>Sarapan sahurnya juga enak banget rasanya. Lok...</td>\n",
       "      <td>sarapan sahurnya juga enak banget rasanya loka...</td>\n",
       "      <td>1</td>\n",
       "      <td>1</td>\n",
       "    </tr>\n",
       "    <tr>\n",
       "      <th>4</th>\n",
       "      <td>Lokasi hotel dekat dengan jalan raya dan ramai...</td>\n",
       "      <td>lokasi hotel dekat dengan jalan raya dan ramai...</td>\n",
       "      <td>1</td>\n",
       "      <td>1</td>\n",
       "    </tr>\n",
       "    <tr>\n",
       "      <th>5</th>\n",
       "      <td>Suka dengan keramahan para staffnya. Kamarnya ...</td>\n",
       "      <td>suka dengan keramahan para staffnya kamarnya j...</td>\n",
       "      <td>1</td>\n",
       "      <td>1</td>\n",
       "    </tr>\n",
       "    <tr>\n",
       "      <th>6</th>\n",
       "      <td>Selalu suka nginep disini, kamar luas makanan ...</td>\n",
       "      <td>selalu suka nginep disini kamar luas makanan e...</td>\n",
       "      <td>1</td>\n",
       "      <td>1</td>\n",
       "    </tr>\n",
       "    <tr>\n",
       "      <th>7</th>\n",
       "      <td>Hotelnya bagus terutama lokasinya sangat oke, ...</td>\n",
       "      <td>hotelnya bagus terutama lokasinya sangat oke b...</td>\n",
       "      <td>1</td>\n",
       "      <td>1</td>\n",
       "    </tr>\n",
       "    <tr>\n",
       "      <th>8</th>\n",
       "      <td>Pelayanan oke banget, staff nya ramah, parkira...</td>\n",
       "      <td>pelayanan oke banget staff nya ramah parkiran ...</td>\n",
       "      <td>1</td>\n",
       "      <td>1</td>\n",
       "    </tr>\n",
       "    <tr>\n",
       "      <th>9</th>\n",
       "      <td>Staf nya ramah2 dan sigap, kamar bersih, nyama...</td>\n",
       "      <td>staf nya ramah dan sigap kamar bersih nyaman k...</td>\n",
       "      <td>1</td>\n",
       "      <td>1</td>\n",
       "    </tr>\n",
       "    <tr>\n",
       "      <th>10</th>\n",
       "      <td>Kamarnya bersih , wangi , staf nya ramah . Lok...</td>\n",
       "      <td>kamarnya bersih wangi staf nya ramah lokasinya...</td>\n",
       "      <td>1</td>\n",
       "      <td>1</td>\n",
       "    </tr>\n",
       "    <tr>\n",
       "      <th>11</th>\n",
       "      <td>Hotelnya bagus, nyaman, makanan jg enak.</td>\n",
       "      <td>hotelnya bagus nyaman makanan jg enak</td>\n",
       "      <td>1</td>\n",
       "      <td>0</td>\n",
       "    </tr>\n",
       "    <tr>\n",
       "      <th>12</th>\n",
       "      <td>Pelayanan prima dan lokasi sangat strategis</td>\n",
       "      <td>pelayanan prima dan lokasi sangat strategis</td>\n",
       "      <td>1</td>\n",
       "      <td>1</td>\n",
       "    </tr>\n",
       "    <tr>\n",
       "      <th>13</th>\n",
       "      <td>Salat satu hotel terbaik dengan fasilitas leng...</td>\n",
       "      <td>salat satu hotel terbaik dengan fasilitas leng...</td>\n",
       "      <td>1</td>\n",
       "      <td>1</td>\n",
       "    </tr>\n",
       "    <tr>\n",
       "      <th>14</th>\n",
       "      <td>Parkiran terbatas sepertinya, pelayanan ramah,...</td>\n",
       "      <td>parkiran terbatas sepertinya pelayanan ramah k...</td>\n",
       "      <td>1</td>\n",
       "      <td>1</td>\n",
       "    </tr>\n",
       "    <tr>\n",
       "      <th>15</th>\n",
       "      <td>Staff ramah dan sangat membantu, kamar bersih ...</td>\n",
       "      <td>staff ramah dan sangat membantu kamar bersih d...</td>\n",
       "      <td>1</td>\n",
       "      <td>1</td>\n",
       "    </tr>\n",
       "    <tr>\n",
       "      <th>16</th>\n",
       "      <td>Menyenangkan nginep the 101 yogyakarta, kamarn...</td>\n",
       "      <td>menyenangkan nginep the yogyakarta kamarnya ba...</td>\n",
       "      <td>1</td>\n",
       "      <td>0</td>\n",
       "    </tr>\n",
       "    <tr>\n",
       "      <th>17</th>\n",
       "      <td>Lokasinya strategis, kamarnya bagus dan bersih</td>\n",
       "      <td>lokasinya strategis kamarnya bagus dan bersih</td>\n",
       "      <td>1</td>\n",
       "      <td>1</td>\n",
       "    </tr>\n",
       "    <tr>\n",
       "      <th>18</th>\n",
       "      <td>semua staf hotelnya ramah, tempat menyenangkan...</td>\n",
       "      <td>semua staf hotelnya ramah tempat menyenangkan ...</td>\n",
       "      <td>1</td>\n",
       "      <td>1</td>\n",
       "    </tr>\n",
       "    <tr>\n",
       "      <th>19</th>\n",
       "      <td>Pelayanan sgt bagus, hotel bersih dan menu sar...</td>\n",
       "      <td>pelayanan sgt bagus hotel bersih dan menu sara...</td>\n",
       "      <td>1</td>\n",
       "      <td>1</td>\n",
       "    </tr>\n",
       "  </tbody>\n",
       "</table>\n",
       "</div>"
      ],
      "text/plain": [
       "                                        original_text  \\\n",
       "0   Kamar yg bersih, fasilitas oke lokasi dekat dg...   \n",
       "1   Staffnya ramah dan sigap, untuk menu makanan j...   \n",
       "2   Super duper ramah all staff.nya. Hotelnya bers...   \n",
       "3   Sarapan sahurnya juga enak banget rasanya. Lok...   \n",
       "4   Lokasi hotel dekat dengan jalan raya dan ramai...   \n",
       "5   Suka dengan keramahan para staffnya. Kamarnya ...   \n",
       "6   Selalu suka nginep disini, kamar luas makanan ...   \n",
       "7   Hotelnya bagus terutama lokasinya sangat oke, ...   \n",
       "8   Pelayanan oke banget, staff nya ramah, parkira...   \n",
       "9   Staf nya ramah2 dan sigap, kamar bersih, nyama...   \n",
       "10  Kamarnya bersih , wangi , staf nya ramah . Lok...   \n",
       "11           Hotelnya bagus, nyaman, makanan jg enak.   \n",
       "12        Pelayanan prima dan lokasi sangat strategis   \n",
       "13  Salat satu hotel terbaik dengan fasilitas leng...   \n",
       "14  Parkiran terbatas sepertinya, pelayanan ramah,...   \n",
       "15  Staff ramah dan sangat membantu, kamar bersih ...   \n",
       "16  Menyenangkan nginep the 101 yogyakarta, kamarn...   \n",
       "17     Lokasinya strategis, kamarnya bagus dan bersih   \n",
       "18  semua staf hotelnya ramah, tempat menyenangkan...   \n",
       "19  Pelayanan sgt bagus, hotel bersih dan menu sar...   \n",
       "\n",
       "                                         text_cleaned  actual_sentiment  \\\n",
       "0   kamar yg bersih fasilitas oke lokasi dekat dg ...                 1   \n",
       "1   staffnya ramah dan sigap untuk menu makanan ju...                 1   \n",
       "2   super duper ramah all staff nya hotelnya bersi...                 1   \n",
       "3   sarapan sahurnya juga enak banget rasanya loka...                 1   \n",
       "4   lokasi hotel dekat dengan jalan raya dan ramai...                 1   \n",
       "5   suka dengan keramahan para staffnya kamarnya j...                 1   \n",
       "6   selalu suka nginep disini kamar luas makanan e...                 1   \n",
       "7   hotelnya bagus terutama lokasinya sangat oke b...                 1   \n",
       "8   pelayanan oke banget staff nya ramah parkiran ...                 1   \n",
       "9   staf nya ramah dan sigap kamar bersih nyaman k...                 1   \n",
       "10  kamarnya bersih wangi staf nya ramah lokasinya...                 1   \n",
       "11             hotelnya bagus nyaman makanan jg enak                  1   \n",
       "12        pelayanan prima dan lokasi sangat strategis                 1   \n",
       "13  salat satu hotel terbaik dengan fasilitas leng...                 1   \n",
       "14  parkiran terbatas sepertinya pelayanan ramah k...                 1   \n",
       "15  staff ramah dan sangat membantu kamar bersih d...                 1   \n",
       "16  menyenangkan nginep the yogyakarta kamarnya ba...                 1   \n",
       "17      lokasinya strategis kamarnya bagus dan bersih                 1   \n",
       "18  semua staf hotelnya ramah tempat menyenangkan ...                 1   \n",
       "19  pelayanan sgt bagus hotel bersih dan menu sara...                 1   \n",
       "\n",
       "    predicted_sentiment  \n",
       "0                     1  \n",
       "1                     1  \n",
       "2                     1  \n",
       "3                     1  \n",
       "4                     1  \n",
       "5                     1  \n",
       "6                     1  \n",
       "7                     1  \n",
       "8                     1  \n",
       "9                     1  \n",
       "10                    1  \n",
       "11                    0  \n",
       "12                    1  \n",
       "13                    1  \n",
       "14                    1  \n",
       "15                    1  \n",
       "16                    0  \n",
       "17                    1  \n",
       "18                    1  \n",
       "19                    1  "
      ]
     },
     "execution_count": 193,
     "metadata": {},
     "output_type": "execute_result"
    }
   ],
   "source": [
    "prediction_sentiment_result_convert = pd.DataFrame({\n",
    "    'original_text':data_validation['text'],\n",
    "    'text_cleaned':data_validation['content_cleaned'],\n",
    "    'actual_sentiment': actual_sentiment,\n",
    "    'predicted_sentiment': prediction_result\n",
    "})\n",
    "prediction_sentiment_result_convert.head(20)\n",
    "# print(prediction_sentiment_result_convert)"
   ]
  },
  {
   "cell_type": "code",
   "execution_count": 190,
   "id": "381f8d21-830d-4523-9d09-13f76948bd94",
   "metadata": {},
   "outputs": [],
   "source": [
    "prediction_sentiment_result_convert.to_csv('result.csv', index=False)"
   ]
  },
  {
   "cell_type": "code",
   "execution_count": 20,
   "id": "2ac1432d-dc9e-450a-a074-24b26d1941c1",
   "metadata": {},
   "outputs": [
    {
     "name": "stdout",
     "output_type": "stream",
     "text": [
      "[[   3  376    1    2  230  835  252    0    0    0    0    0    0    0\n",
      "     0    0    0    0    0    0    0    0    0    0    0    0    0    0\n",
      "     0    0    0]\n",
      " [   5  165   37    1   33  980   11    0    0    0    0    0    0    0\n",
      "     0    0    0    0    0    0    0    0    0    0    0    0    0    0\n",
      "     0    0    0]\n",
      " [   6  390   48    4  930  109  385    1   13    0    0    0    0    0\n",
      "     0    0    0    0    0    0    0    0    0    0    0    0    0    0\n",
      "     0    0    0]\n",
      " [   3   20    4  742  109  617    0    0    0    0    0    0    0    0\n",
      "     0    0    0    0    0    0    0    0    0    0    0    0    0    0\n",
      "     0    0    0]\n",
      " [  11  109    1   17  733  464    0    0    0    0    0    0    0    0\n",
      "     0    0    0    0    0    0    0    0    0    0    0    0    0    0\n",
      "     0    0    0]\n",
      " [  11  390   48  151   16    0    0    0    0    0    0    0    0    0\n",
      "     0    0    0    0    0    0    0    0    0    0    0    0    0    0\n",
      "     0    0    0]\n",
      " [   3  981   29   30 1649    8   12 1650  813    6  919   11  981   17\n",
      "     0    0    0    0    0    0    0    0    0    0    0    0    0    0\n",
      "     0    0    0]\n",
      " [ 187    9   16  385   56    0    0    0    0    0    0    0    0    0\n",
      "     0    0    0    0    0    0    0    0    0    0    0    0    0    0\n",
      "     0    0    0]\n",
      " [  11  101   17  385   60  717   87    0    0    0    0    0    0    0\n",
      "     0    0    0    0    0    0    0    0    0    0    0    0    0    0\n",
      "     0    0    0]\n",
      " [  30    4   60  835  606   44   91   82   47    0    0    0    0    0\n",
      "     0    0    0    0    0    0    0    0    0    0    0    0    0    0\n",
      "     0    0    0]\n",
      " [ 717   87    8    4   63   12   15  366   36    0    0    0    0    0\n",
      "     0    0    0    0    0    0    0    0    0    0    0    0    0    0\n",
      "     0    0    0]\n",
      " [1651 1138   29  385   24    0    0    0    0    0    0    0    0    0\n",
      "     0    0    0    0    0    0    0    0    0    0    0    0    0    0\n",
      "     0    0    0]\n",
      " [   6  385  122 1652    7  159  655  731   43   43   87    0    0    0\n",
      "     0    0    0    0    0    0    0    0    0    0    0    0    0    0\n",
      "     0    0    0]\n",
      " [   6  385  122    7  159   13  101    0    0    0    0    0    0    0\n",
      "     0    0    0    0    0    0    0    0    0    0    0    0    0    0\n",
      "     0    0    0]\n",
      " [   6  390    4  742  381    0    0    0    0    0    0    0    0    0\n",
      "     0    0    0    0    0    0    0    0    0    0    0    0    0    0\n",
      "     0    0    0]\n",
      " [   3  114  980  156   58   46    0    0    0    0    0    0    0    0\n",
      "     0    0    0    0    0    0    0    0    0    0    0    0    0    0\n",
      "     0    0    0]\n",
      " [   5  132  146   82   47  717  606   87    0    0    0    0    0    0\n",
      "     0    0    0    0    0    0    0    0    0    0    0    0    0    0\n",
      "     0    0    0]]\n"
     ]
    }
   ],
   "source": [
    "test_list = [ 'kamar pengap tidak ada jendela yang memadai',\n",
    "             'harga terlalu mahal tidak sesuai dengan pelayanan',\n",
    "             'makanan di resto hotel begitu buruk dan tidak enak',\n",
    "             'kamar mandi hotel ini buruk sekali',\n",
    "             'pelayanan buruk, tidak ramah pada pengunjung',\n",
    "             'pelayanan di resto kurang baik',\n",
    "             'kamar yg bersih fasilitas oje lokasi dekat dg penjual makanan serta pelayanan yg ramah',\n",
    "             'respon staff baik dan cepat',\n",
    "             'pelayanan semua ramah dan bagus saya suka',\n",
    "             'fasilitas hotel bagus yang sangat lengkap seperti bintang lima',\n",
    "             'saya suka lokasi hotel strategis dekat banyak rumah makan',\n",
    "             'kamarnya juga bersih dan nyaman',\n",
    "             'makanan dan minuman untuk sarapan pagi bervariasi buat anak-anak suka',\n",
    "             'makanan dan minuman sarapan pagi enak semua',\n",
    "             'makanan di hotel ini lezat',\n",
    "             'kamar mewah dengan balkon pemandangan kota',\n",
    "             'harga terjangkau kualitas bintang lima, saya sangat suka',\n",
    "            ]\n",
    "# test_list = ['tidak suka kamar sempit']\n",
    "text = test_list\n",
    "\n",
    "tokenizer.fit_on_texts(text)\n",
    "test_sequences = tokenizer.texts_to_sequences(text)\n",
    "test_pad = pad_sequences(test_sequences, maxlen=31, padding='post')\n",
    "\n",
    "print(test_pad)"
   ]
  },
  {
   "cell_type": "code",
   "execution_count": 21,
   "id": "78253b3e-109a-4f89-8f8f-7c79163dc0ba",
   "metadata": {},
   "outputs": [
    {
     "name": "stdout",
     "output_type": "stream",
     "text": [
      "[0 0 1 1 0 1 1 1 1 1 0 1 1 1 1 1 0]\n"
     ]
    }
   ],
   "source": [
    "from keras.models import load_model\n",
    "\n",
    "model_filenames = ['sentiment_aspek.h5']  # List of models\n",
    "prediction_sentiments = []\n",
    "threshold = 0.5\n",
    "\n",
    "models = []\n",
    "for filename in model_filenames:\n",
    "    model = load_model(filename)\n",
    "    models.append(model)\n",
    "\n",
    "predictions = np.zeros((test_pad.shape[0], len(model_filenames)))\n",
    "\n",
    "for i, model in enumerate(models):\n",
    "    preds = model.predict(test_pad)\n",
    "    preds_binary = np.where(preds > 0.5, 1, 0)\n",
    "    for j, pred in enumerate(preds_binary):\n",
    "        predictions[j][i] = pred[0]\n",
    "\n",
    "prediction_result = predictions.flatten().astype(int)\n",
    "\n",
    "print(prediction_result)"
   ]
  },
  {
   "cell_type": "code",
   "execution_count": 22,
   "id": "3e507624-0296-46e3-84aa-db7856ce1e09",
   "metadata": {},
   "outputs": [
    {
     "name": "stdout",
     "output_type": "stream",
     "text": [
      "       False  True\n",
      "False      3     2\n",
      "True       2    10\n"
     ]
    },
    {
     "data": {
      "text/plain": [
       "<AxesSubplot:>"
      ]
     },
     "execution_count": 22,
     "metadata": {},
     "output_type": "execute_result"
    },
    {
     "data": {
      "image/png": "[encoded data removed]",
      "text/plain": [
       "<Figure size 432x288 with 2 Axes>"
      ]
     },
     "metadata": {
      "needs_background": "light"
     },
     "output_type": "display_data"
    }
   ],
   "source": [
    "from sklearn.metrics import confusion_matrix\n",
    "import seaborn as sns\n",
    "\n",
    "# Nilai prediksi dan actual dalam bentuk list of array\n",
    "y_pred = prediction_result\n",
    "y_actual = [0, 0, 0, 0, 0, 1, 1, 1, 1, 1, 1, 1, 1, 1, 1, 1, 1]\n",
    "\n",
    "# Membuat confusion matrix\n",
    "confusion_mat = confusion_matrix(y_pred, y_actual)\n",
    "\n",
    "confusion_df = pd.DataFrame(confusion_mat, index=['False', 'True'], columns=['False', 'True'])\n",
    "print(confusion_df)\n",
    "\n",
    "# Visualisasi confusion matrix\n",
    "sns.heatmap(confusion_df, annot=True, cmap='Blues')"
   ]
  },
  {
   "cell_type": "code",
   "execution_count": 23,
   "id": "ef5fcbda-eb40-4e38-98d0-6a5737338165",
   "metadata": {},
   "outputs": [
    {
     "name": "stdout",
     "output_type": "stream",
     "text": [
      "Accuracy : 0.7647058823529411\n",
      "F1_score : 0.8333333333333334\n"
     ]
    }
   ],
   "source": [
    "Accuracy = metrics.accuracy_score(y_actual, y_pred)\n",
    "F1_score = metrics.f1_score(y_actual, y_pred)\n",
    "print(\"Accuracy :\", Accuracy)\n",
    "print(\"F1_score :\", F1_score)"
   ]
  },
  {
   "cell_type": "code",
   "execution_count": null,
   "id": "6bf5a422-3338-401a-a28e-b9f3a5572904",
   "metadata": {},
   "outputs": [],
   "source": []
  }
 ],
 "metadata": {
  "kernelspec": {
   "display_name": "Python 3",
   "language": "python",
   "name": "python3"
  },
  "language_info": {
   "codemirror_mode": {
    "name": "ipython",
    "version": 3
   },
   "file_extension": ".py",
   "mimetype": "text/x-python",
   "name": "python",
   "nbconvert_exporter": "python",
   "pygments_lexer": "ipython3",
   "version": "3.9.5"
  }
 },
 "nbformat": 4,
 "nbformat_minor": 5
}
