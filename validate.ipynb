{
 "cells": [
  {
   "cell_type": "code",
   "execution_count": 1,
   "id": "0a757851-edeb-4425-a617-cb9773657923",
   "metadata": {},
   "outputs": [
    {
     "name": "stderr",
     "output_type": "stream",
     "text": [
      "[nltk_data] Downloading package stopwords to\n",
      "[nltk_data]     /Users/pujawardani/nltk_data...\n",
      "[nltk_data]   Unzipping corpora/stopwords.zip.\n"
     ]
    },
    {
     "data": {
      "text/plain": [
       "True"
      ]
     },
     "execution_count": 1,
     "metadata": {},
     "output_type": "execute_result"
    }
   ],
   "source": [
    "import pandas as pd\n",
    "import numpy as np\n",
    "# Libraries for Text Preprocessing\n",
    "import re\n",
    "from keras.preprocessing.text import Tokenizer\n",
    "from keras.preprocessing.sequence import pad_sequences\n",
    "# Libraries for Visualization\n",
    "import wordcloud\n",
    "import matplotlib.pyplot as plt\n",
    "import plotly.express as px\n",
    "# Libraries for Model\n",
    "from keras.models import Sequential\n",
    "from keras.layers import Conv2D, MaxPooling2D, Flatten, Dense, Embedding, LSTM, SpatialDropout1D\n",
    "from sklearn.model_selection import train_test_split\n",
    "from sklearn import metrics\n",
    "import tensorflow as tf\n",
    "\n",
    "import seaborn as sns\n",
    "import matplotlib.pyplot as plt\n",
    "import matplotlib as mpl\n",
    "from nltk.tokenize import word_tokenize\n",
    "from Sastrawi.Stemmer.StemmerFactory import StemmerFactory\n",
    "import neattext.functions as nfx\n",
    "import string\n",
    "import swifter\n",
    "import nltk\n",
    "from nltk.corpus import stopwords\n",
    "nltk.download('stopwords')"
   ]
  },
  {
   "cell_type": "code",
   "execution_count": 10,
   "id": "1b1c2270-a8e1-41b4-b208-c1d08f8add15",
   "metadata": {},
   "outputs": [
    {
     "data": {
      "text/html": [
       "<div>\n",
       "<style scoped>\n",
       "    .dataframe tbody tr th:only-of-type {\n",
       "        vertical-align: middle;\n",
       "    }\n",
       "\n",
       "    .dataframe tbody tr th {\n",
       "        vertical-align: top;\n",
       "    }\n",
       "\n",
       "    .dataframe thead th {\n",
       "        text-align: right;\n",
       "    }\n",
       "</style>\n",
       "<table border=\"1\" class=\"dataframe\">\n",
       "  <thead>\n",
       "    <tr style=\"text-align: right;\">\n",
       "      <th></th>\n",
       "      <th>text</th>\n",
       "      <th>hotel</th>\n",
       "      <th>lokasi</th>\n",
       "      <th>kamar</th>\n",
       "      <th>pelayanan</th>\n",
       "      <th>makanan</th>\n",
       "      <th>harga</th>\n",
       "      <th>sentiment</th>\n",
       "    </tr>\n",
       "  </thead>\n",
       "  <tbody>\n",
       "    <tr>\n",
       "      <th>0</th>\n",
       "      <td>Harga di hotel ini sangat terjangkau, makanan ...</td>\n",
       "      <td>1</td>\n",
       "      <td>0</td>\n",
       "      <td>0</td>\n",
       "      <td>0</td>\n",
       "      <td>1</td>\n",
       "      <td>1</td>\n",
       "      <td>positive</td>\n",
       "    </tr>\n",
       "    <tr>\n",
       "      <th>1</th>\n",
       "      <td>Harga makanan di hotel ini sangat terjangkau, ...</td>\n",
       "      <td>0</td>\n",
       "      <td>0</td>\n",
       "      <td>0</td>\n",
       "      <td>1</td>\n",
       "      <td>1</td>\n",
       "      <td>1</td>\n",
       "      <td>positive</td>\n",
       "    </tr>\n",
       "    <tr>\n",
       "      <th>2</th>\n",
       "      <td>Meskipun harganya terjangkau, makanan di hotel...</td>\n",
       "      <td>0</td>\n",
       "      <td>0</td>\n",
       "      <td>1</td>\n",
       "      <td>0</td>\n",
       "      <td>1</td>\n",
       "      <td>1</td>\n",
       "      <td>positive</td>\n",
       "    </tr>\n",
       "    <tr>\n",
       "      <th>3</th>\n",
       "      <td>Hotel ini memiliki harga yang terjangkau, maka...</td>\n",
       "      <td>0</td>\n",
       "      <td>1</td>\n",
       "      <td>0</td>\n",
       "      <td>0</td>\n",
       "      <td>1</td>\n",
       "      <td>1</td>\n",
       "      <td>positive</td>\n",
       "    </tr>\n",
       "    <tr>\n",
       "      <th>4</th>\n",
       "      <td>Harga fasilitas di hotel ini sangat bersahabat...</td>\n",
       "      <td>1</td>\n",
       "      <td>0</td>\n",
       "      <td>0</td>\n",
       "      <td>0</td>\n",
       "      <td>1</td>\n",
       "      <td>1</td>\n",
       "      <td>positive</td>\n",
       "    </tr>\n",
       "  </tbody>\n",
       "</table>\n",
       "</div>"
      ],
      "text/plain": [
       "                                                text  hotel  lokasi  kamar  \\\n",
       "0  Harga di hotel ini sangat terjangkau, makanan ...      1       0      0   \n",
       "1  Harga makanan di hotel ini sangat terjangkau, ...      0       0      0   \n",
       "2  Meskipun harganya terjangkau, makanan di hotel...      0       0      1   \n",
       "3  Hotel ini memiliki harga yang terjangkau, maka...      0       1      0   \n",
       "4  Harga fasilitas di hotel ini sangat bersahabat...      1       0      0   \n",
       "\n",
       "   pelayanan  makanan  harga sentiment  \n",
       "0          0        1      1  positive  \n",
       "1          1        1      1  positive  \n",
       "2          0        1      1  positive  \n",
       "3          0        1      1  positive  \n",
       "4          0        1      1  positive  "
      ]
     },
     "execution_count": 10,
     "metadata": {},
     "output_type": "execute_result"
    }
   ],
   "source": [
    "data_set = pd.read_csv('validation_data.csv')\n",
    "data_set.head()"
   ]
  },
  {
   "cell_type": "code",
   "execution_count": 11,
   "id": "3b00f323-f045-45d5-8a21-fd546fba9e5a",
   "metadata": {},
   "outputs": [
    {
     "data": {
      "text/html": [
       "<div>\n",
       "<style scoped>\n",
       "    .dataframe tbody tr th:only-of-type {\n",
       "        vertical-align: middle;\n",
       "    }\n",
       "\n",
       "    .dataframe tbody tr th {\n",
       "        vertical-align: top;\n",
       "    }\n",
       "\n",
       "    .dataframe thead th {\n",
       "        text-align: right;\n",
       "    }\n",
       "</style>\n",
       "<table border=\"1\" class=\"dataframe\">\n",
       "  <thead>\n",
       "    <tr style=\"text-align: right;\">\n",
       "      <th></th>\n",
       "      <th>text</th>\n",
       "      <th>hotel</th>\n",
       "      <th>lokasi</th>\n",
       "      <th>kamar</th>\n",
       "      <th>pelayanan</th>\n",
       "      <th>makanan</th>\n",
       "      <th>harga</th>\n",
       "      <th>sentiment</th>\n",
       "      <th>content_cleaned</th>\n",
       "    </tr>\n",
       "  </thead>\n",
       "  <tbody>\n",
       "    <tr>\n",
       "      <th>0</th>\n",
       "      <td>Harga di hotel ini sangat terjangkau, makanan ...</td>\n",
       "      <td>1</td>\n",
       "      <td>0</td>\n",
       "      <td>0</td>\n",
       "      <td>0</td>\n",
       "      <td>1</td>\n",
       "      <td>1</td>\n",
       "      <td>positive</td>\n",
       "      <td>Harga di hotel ini sangat terjangkau makanan y...</td>\n",
       "    </tr>\n",
       "    <tr>\n",
       "      <th>1</th>\n",
       "      <td>Harga makanan di hotel ini sangat terjangkau, ...</td>\n",
       "      <td>0</td>\n",
       "      <td>0</td>\n",
       "      <td>0</td>\n",
       "      <td>1</td>\n",
       "      <td>1</td>\n",
       "      <td>1</td>\n",
       "      <td>positive</td>\n",
       "      <td>Harga makanan di hotel ini sangat terjangkau p...</td>\n",
       "    </tr>\n",
       "    <tr>\n",
       "      <th>2</th>\n",
       "      <td>Meskipun harganya terjangkau, makanan di hotel...</td>\n",
       "      <td>0</td>\n",
       "      <td>0</td>\n",
       "      <td>1</td>\n",
       "      <td>0</td>\n",
       "      <td>1</td>\n",
       "      <td>1</td>\n",
       "      <td>positive</td>\n",
       "      <td>Meskipun harganya terjangkau makanan di hotel ...</td>\n",
       "    </tr>\n",
       "    <tr>\n",
       "      <th>3</th>\n",
       "      <td>Hotel ini memiliki harga yang terjangkau, maka...</td>\n",
       "      <td>0</td>\n",
       "      <td>1</td>\n",
       "      <td>0</td>\n",
       "      <td>0</td>\n",
       "      <td>1</td>\n",
       "      <td>1</td>\n",
       "      <td>positive</td>\n",
       "      <td>Hotel ini memiliki harga yang terjangkau makan...</td>\n",
       "    </tr>\n",
       "    <tr>\n",
       "      <th>4</th>\n",
       "      <td>Harga fasilitas di hotel ini sangat bersahabat...</td>\n",
       "      <td>1</td>\n",
       "      <td>0</td>\n",
       "      <td>0</td>\n",
       "      <td>0</td>\n",
       "      <td>1</td>\n",
       "      <td>1</td>\n",
       "      <td>positive</td>\n",
       "      <td>Harga fasilitas di hotel ini sangat bersahabat...</td>\n",
       "    </tr>\n",
       "  </tbody>\n",
       "</table>\n",
       "</div>"
      ],
      "text/plain": [
       "                                                text  hotel  lokasi  kamar  \\\n",
       "0  Harga di hotel ini sangat terjangkau, makanan ...      1       0      0   \n",
       "1  Harga makanan di hotel ini sangat terjangkau, ...      0       0      0   \n",
       "2  Meskipun harganya terjangkau, makanan di hotel...      0       0      1   \n",
       "3  Hotel ini memiliki harga yang terjangkau, maka...      0       1      0   \n",
       "4  Harga fasilitas di hotel ini sangat bersahabat...      1       0      0   \n",
       "\n",
       "   pelayanan  makanan  harga sentiment  \\\n",
       "0          0        1      1  positive   \n",
       "1          1        1      1  positive   \n",
       "2          0        1      1  positive   \n",
       "3          0        1      1  positive   \n",
       "4          0        1      1  positive   \n",
       "\n",
       "                                     content_cleaned  \n",
       "0  Harga di hotel ini sangat terjangkau makanan y...  \n",
       "1  Harga makanan di hotel ini sangat terjangkau p...  \n",
       "2  Meskipun harganya terjangkau makanan di hotel ...  \n",
       "3  Hotel ini memiliki harga yang terjangkau makan...  \n",
       "4  Harga fasilitas di hotel ini sangat bersahabat...  "
      ]
     },
     "execution_count": 11,
     "metadata": {},
     "output_type": "execute_result"
    }
   ],
   "source": [
    "def cleaning(text):\n",
    "    text = re.sub(r'\\n',' ',text) # Hapus \\n (enter)\n",
    "    text = nfx.remove_hashtags(text) # Hapus hashtags\n",
    "    text = nfx.remove_numbers(text) # Hapus number\n",
    "    text = text.strip() # Hapus Whitespace\n",
    "    text = re.sub('[^0-9a-zA-Z]+', ' ', text) # Hapus karakter selain alfabet dan angka\n",
    "    return text\n",
    "\n",
    "data_set['content_cleaned'] = data_set['text'].apply(cleaning)\n",
    "\n",
    "data_set.head()"
   ]
  },
  {
   "cell_type": "code",
   "execution_count": 12,
   "id": "55451135-6f4f-4c49-8d24-f01b80af07e3",
   "metadata": {},
   "outputs": [
    {
     "data": {
      "text/html": [
       "<div>\n",
       "<style scoped>\n",
       "    .dataframe tbody tr th:only-of-type {\n",
       "        vertical-align: middle;\n",
       "    }\n",
       "\n",
       "    .dataframe tbody tr th {\n",
       "        vertical-align: top;\n",
       "    }\n",
       "\n",
       "    .dataframe thead th {\n",
       "        text-align: right;\n",
       "    }\n",
       "</style>\n",
       "<table border=\"1\" class=\"dataframe\">\n",
       "  <thead>\n",
       "    <tr style=\"text-align: right;\">\n",
       "      <th></th>\n",
       "      <th>text</th>\n",
       "      <th>hotel</th>\n",
       "      <th>lokasi</th>\n",
       "      <th>kamar</th>\n",
       "      <th>pelayanan</th>\n",
       "      <th>makanan</th>\n",
       "      <th>harga</th>\n",
       "      <th>sentiment</th>\n",
       "      <th>content_cleaned</th>\n",
       "    </tr>\n",
       "  </thead>\n",
       "  <tbody>\n",
       "    <tr>\n",
       "      <th>0</th>\n",
       "      <td>Harga di hotel ini sangat terjangkau, makanan ...</td>\n",
       "      <td>1</td>\n",
       "      <td>0</td>\n",
       "      <td>0</td>\n",
       "      <td>0</td>\n",
       "      <td>1</td>\n",
       "      <td>1</td>\n",
       "      <td>positive</td>\n",
       "      <td>harga di hotel ini sangat terjangkau makanan y...</td>\n",
       "    </tr>\n",
       "    <tr>\n",
       "      <th>1</th>\n",
       "      <td>Harga makanan di hotel ini sangat terjangkau, ...</td>\n",
       "      <td>0</td>\n",
       "      <td>0</td>\n",
       "      <td>0</td>\n",
       "      <td>1</td>\n",
       "      <td>1</td>\n",
       "      <td>1</td>\n",
       "      <td>positive</td>\n",
       "      <td>harga makanan di hotel ini sangat terjangkau p...</td>\n",
       "    </tr>\n",
       "    <tr>\n",
       "      <th>2</th>\n",
       "      <td>Meskipun harganya terjangkau, makanan di hotel...</td>\n",
       "      <td>0</td>\n",
       "      <td>0</td>\n",
       "      <td>1</td>\n",
       "      <td>0</td>\n",
       "      <td>1</td>\n",
       "      <td>1</td>\n",
       "      <td>positive</td>\n",
       "      <td>meskipun harganya terjangkau makanan di hotel ...</td>\n",
       "    </tr>\n",
       "    <tr>\n",
       "      <th>3</th>\n",
       "      <td>Hotel ini memiliki harga yang terjangkau, maka...</td>\n",
       "      <td>0</td>\n",
       "      <td>1</td>\n",
       "      <td>0</td>\n",
       "      <td>0</td>\n",
       "      <td>1</td>\n",
       "      <td>1</td>\n",
       "      <td>positive</td>\n",
       "      <td>hotel ini memiliki harga yang terjangkau makan...</td>\n",
       "    </tr>\n",
       "    <tr>\n",
       "      <th>4</th>\n",
       "      <td>Harga fasilitas di hotel ini sangat bersahabat...</td>\n",
       "      <td>1</td>\n",
       "      <td>0</td>\n",
       "      <td>0</td>\n",
       "      <td>0</td>\n",
       "      <td>1</td>\n",
       "      <td>1</td>\n",
       "      <td>positive</td>\n",
       "      <td>harga fasilitas di hotel ini sangat bersahabat...</td>\n",
       "    </tr>\n",
       "  </tbody>\n",
       "</table>\n",
       "</div>"
      ],
      "text/plain": [
       "                                                text  hotel  lokasi  kamar  \\\n",
       "0  Harga di hotel ini sangat terjangkau, makanan ...      1       0      0   \n",
       "1  Harga makanan di hotel ini sangat terjangkau, ...      0       0      0   \n",
       "2  Meskipun harganya terjangkau, makanan di hotel...      0       0      1   \n",
       "3  Hotel ini memiliki harga yang terjangkau, maka...      0       1      0   \n",
       "4  Harga fasilitas di hotel ini sangat bersahabat...      1       0      0   \n",
       "\n",
       "   pelayanan  makanan  harga sentiment  \\\n",
       "0          0        1      1  positive   \n",
       "1          1        1      1  positive   \n",
       "2          0        1      1  positive   \n",
       "3          0        1      1  positive   \n",
       "4          0        1      1  positive   \n",
       "\n",
       "                                     content_cleaned  \n",
       "0  harga di hotel ini sangat terjangkau makanan y...  \n",
       "1  harga makanan di hotel ini sangat terjangkau p...  \n",
       "2  meskipun harganya terjangkau makanan di hotel ...  \n",
       "3  hotel ini memiliki harga yang terjangkau makan...  \n",
       "4  harga fasilitas di hotel ini sangat bersahabat...  "
      ]
     },
     "execution_count": 12,
     "metadata": {},
     "output_type": "execute_result"
    }
   ],
   "source": [
    "def casefolding(text):\n",
    "    return text.lower()\n",
    "\n",
    "data_set['content_cleaned'] = data_set['content_cleaned'].apply(casefolding)\n",
    "data_set.head()"
   ]
  },
  {
   "cell_type": "code",
   "execution_count": 13,
   "id": "385a576e-d80c-4430-bba6-a032ef9743cd",
   "metadata": {},
   "outputs": [
    {
     "name": "stdout",
     "output_type": "stream",
     "text": [
      "[[14  5  3 ...  0  0  0]\n",
      " [14 24  5 ...  0  0  0]\n",
      " [28 30 18 ...  0  0  0]\n",
      " ...\n",
      " [27  3  4 ...  0  0  0]\n",
      " [28 17 10 ...  0  0  0]\n",
      " [27  3  4 ...  0  0  0]]\n"
     ]
    }
   ],
   "source": [
    "tokenizer=Tokenizer(num_words=1500)\n",
    "tokenizer.fit_on_texts(data_set[\"content_cleaned\"].values)\n",
    "X=tokenizer.texts_to_sequences(data_set[\"content_cleaned\"].values)\n",
    "X=pad_sequences(X, maxlen=31, padding='post')\n",
    "\n",
    "print(X)"
   ]
  },
  {
   "cell_type": "code",
   "execution_count": 7,
   "id": "4bea733e-d9b0-4ca5-8bbb-8dbbaeaf50d6",
   "metadata": {},
   "outputs": [
    {
     "data": {
      "text/plain": [
       "14"
      ]
     },
     "execution_count": 7,
     "metadata": {},
     "output_type": "execute_result"
    }
   ],
   "source": [
    "len(data_set['text'])"
   ]
  },
  {
   "cell_type": "code",
   "execution_count": 72,
   "id": "22a98695-154f-4b57-ac0e-81139871f382",
   "metadata": {},
   "outputs": [
    {
     "name": "stdout",
     "output_type": "stream",
     "text": [
      "[[1 1 1 1 1 1]\n",
      " [1 1 1 1 0 1]\n",
      " [1 1 1 1 1 1]\n",
      " [1 1 1 1 1 1]\n",
      " [1 1 1 1 0 1]\n",
      " [1 1 1 1 1 1]\n",
      " [1 1 1 1 1 1]\n",
      " [1 1 1 1 0 1]\n",
      " [1 1 1 1 0 1]\n",
      " [1 1 1 1 1 1]\n",
      " [1 1 1 1 1 1]\n",
      " [1 1 1 1 1 1]\n",
      " [1 1 1 1 1 1]\n",
      " [1 1 1 1 1 1]\n",
      " [1 1 1 1 1 1]\n",
      " [1 1 1 1 1 1]\n",
      " [1 1 1 1 1 1]\n",
      " [1 1 1 1 1 1]\n",
      " [1 1 1 1 0 1]\n",
      " [1 1 1 1 1 1]\n",
      " [1 1 1 1 1 1]\n",
      " [1 1 1 1 0 1]\n",
      " [1 1 1 1 1 1]\n",
      " [1 1 1 1 1 1]\n",
      " [1 1 1 1 1 1]\n",
      " [1 1 1 1 1 1]\n",
      " [1 1 1 1 1 1]\n",
      " [1 1 1 1 1 1]\n",
      " [1 1 1 1 1 1]\n",
      " [1 1 1 1 1 1]\n",
      " [1 1 1 1 1 1]\n",
      " [1 1 1 1 1 1]\n",
      " [1 1 1 1 1 1]\n",
      " [1 1 1 1 1 1]\n",
      " [1 1 1 1 1 1]\n",
      " [1 1 1 1 1 1]\n",
      " [1 1 1 1 1 1]\n",
      " [1 1 1 1 1 1]\n",
      " [1 1 1 1 1 1]\n",
      " [1 1 1 1 1 1]\n",
      " [1 1 1 1 1 1]\n",
      " [1 1 1 1 1 1]\n",
      " [1 1 1 1 1 1]\n",
      " [1 1 1 1 0 1]\n",
      " [1 1 1 1 1 1]\n",
      " [1 1 1 1 1 1]\n",
      " [1 1 1 1 1 1]\n",
      " [1 1 1 1 0 1]\n",
      " [1 1 1 1 1 1]\n",
      " [1 1 1 1 1 1]\n",
      " [1 1 1 1 0 1]\n",
      " [1 1 1 1 1 1]\n",
      " [1 1 1 1 1 1]\n",
      " [1 1 1 1 1 1]\n",
      " [1 1 1 1 1 1]\n",
      " [1 1 1 1 1 1]\n",
      " [1 1 1 1 0 1]\n",
      " [1 1 1 1 0 1]\n",
      " [1 1 1 1 0 1]\n",
      " [1 1 1 1 0 1]\n",
      " [1 1 1 1 0 1]\n",
      " [1 1 1 1 0 1]\n",
      " [1 1 1 1 0 1]\n",
      " [1 1 1 1 1 1]\n",
      " [1 1 1 1 0 1]\n",
      " [1 1 1 1 1 1]\n",
      " [1 1 1 1 0 1]\n",
      " [1 1 1 1 1 1]\n",
      " [1 1 1 1 0 1]\n",
      " [1 1 1 1 0 1]\n",
      " [1 1 1 1 0 1]\n",
      " [1 1 1 1 0 1]\n",
      " [1 1 1 1 1 1]\n",
      " [1 1 1 1 0 1]\n",
      " [1 1 1 1 1 1]\n",
      " [1 1 1 1 0 1]\n",
      " [1 1 1 1 1 1]\n",
      " [1 1 1 1 1 1]\n",
      " [1 1 1 1 1 1]\n",
      " [1 1 1 1 1 1]\n",
      " [1 1 1 1 1 1]\n",
      " [1 1 1 1 1 1]\n",
      " [1 1 1 1 1 1]\n",
      " [1 1 1 1 1 1]\n",
      " [1 1 1 1 1 1]\n",
      " [1 1 1 1 1 1]\n",
      " [1 1 1 1 1 1]\n",
      " [1 1 1 1 1 1]\n",
      " [1 1 1 1 1 1]\n",
      " [1 1 1 1 1 1]\n",
      " [1 1 1 1 1 1]\n",
      " [1 1 1 1 1 1]\n",
      " [1 1 1 1 1 1]\n",
      " [1 1 1 1 1 1]\n",
      " [1 1 1 1 1 1]\n",
      " [1 1 1 1 1 1]\n",
      " [1 1 1 1 1 1]\n",
      " [1 1 1 1 1 1]\n",
      " [1 1 1 1 1 1]\n",
      " [1 1 1 1 1 1]\n",
      " [1 1 1 1 1 1]\n",
      " [1 1 1 1 1 1]\n",
      " [1 1 1 1 1 1]\n",
      " [1 1 1 1 1 1]\n",
      " [1 1 1 1 1 1]\n",
      " [1 1 1 1 1 1]\n",
      " [1 1 1 1 1 1]\n",
      " [1 1 1 1 1 1]\n",
      " [1 1 1 1 1 1]\n",
      " [1 1 1 1 1 1]\n",
      " [1 1 1 1 1 1]\n",
      " [1 1 1 1 1 1]\n",
      " [1 1 1 1 1 1]\n",
      " [1 1 1 1 1 0]\n",
      " [1 1 1 1 1 1]\n",
      " [1 1 1 1 1 1]\n",
      " [1 1 1 1 0 1]\n",
      " [1 1 1 1 1 1]\n",
      " [1 1 1 1 1 1]\n",
      " [1 1 1 1 1 1]]\n"
     ]
    }
   ],
   "source": [
    "import pandas as pd\n",
    "import numpy as np\n",
    "from keras.preprocessing.text import Tokenizer\n",
    "from keras.preprocessing.sequence import pad_sequences\n",
    "from keras.models import load_model\n",
    "\n",
    "data_set[['hotel', 'lokasi', 'kamar', 'pelayanan', 'makanan', 'harga']]\n",
    "\n",
    "# Load model-model yang sudah disimpan\n",
    "model_filenames = ['aspek_hotel.h5', 'aspek_lokasi.h5', 'aspek_kamar.h5', 'aspek_pelayanan.h5', 'aspek_makanan.h5', 'aspek_harga.h5']  # List of models\n",
    "models = []\n",
    "for filename in model_filenames:\n",
    "    model = load_model(filename)\n",
    "    models.append(model)\n",
    "\n",
    "\n",
    "# Lakukan prediksi pada seluruh data test menggunakan setiap model\n",
    "predictions = np.zeros((X.shape[0], len(models)))\n",
    "\n",
    "for i, model in enumerate(models):\n",
    "    preds = model.predict(X)\n",
    "    preds_binary = np.where(preds > 0.5, 1, 0)\n",
    "    for j, pred in enumerate(preds_binary):\n",
    "        predictions[j][i] = pred[0]\n",
    "        \n",
    "prediction_aspect_result = predictions.astype(int)\n",
    "        \n",
    "# predictions.dtype\n",
    "print(prediction_aspect_result)\n"
   ]
  },
  {
   "cell_type": "code",
   "execution_count": 78,
   "id": "51ee5efe-b0c6-4184-9b7c-0d98b33f6998",
   "metadata": {},
   "outputs": [],
   "source": [
    "# Mengambil nilai dari kolom X, Y, dan Z dan mengonversinya menjadi array\n",
    "actual_aspek = data_set[['hotel', 'lokasi', 'kamar', 'pelayanan', 'makanan', 'harga']].values\n",
    "\n",
    "# Menampilkan array nilai\n",
    "# print(actual_aspek)"
   ]
  },
  {
   "cell_type": "code",
   "execution_count": 79,
   "id": "dc2f56de-5b94-4231-82d3-2708238477ca",
   "metadata": {},
   "outputs": [
    {
     "data": {
      "text/html": [
       "<div>\n",
       "<style scoped>\n",
       "    .dataframe tbody tr th:only-of-type {\n",
       "        vertical-align: middle;\n",
       "    }\n",
       "\n",
       "    .dataframe tbody tr th {\n",
       "        vertical-align: top;\n",
       "    }\n",
       "\n",
       "    .dataframe thead th {\n",
       "        text-align: right;\n",
       "    }\n",
       "</style>\n",
       "<table border=\"1\" class=\"dataframe\">\n",
       "  <thead>\n",
       "    <tr style=\"text-align: right;\">\n",
       "      <th></th>\n",
       "      <th>hotel</th>\n",
       "    </tr>\n",
       "  </thead>\n",
       "  <tbody>\n",
       "    <tr>\n",
       "      <th>0</th>\n",
       "      <td>1</td>\n",
       "    </tr>\n",
       "    <tr>\n",
       "      <th>1</th>\n",
       "      <td>0</td>\n",
       "    </tr>\n",
       "    <tr>\n",
       "      <th>2</th>\n",
       "      <td>0</td>\n",
       "    </tr>\n",
       "    <tr>\n",
       "      <th>3</th>\n",
       "      <td>0</td>\n",
       "    </tr>\n",
       "    <tr>\n",
       "      <th>4</th>\n",
       "      <td>1</td>\n",
       "    </tr>\n",
       "    <tr>\n",
       "      <th>5</th>\n",
       "      <td>1</td>\n",
       "    </tr>\n",
       "  </tbody>\n",
       "</table>\n",
       "</div>"
      ],
      "text/plain": [
       "   hotel\n",
       "0      1\n",
       "1      0\n",
       "2      0\n",
       "3      0\n",
       "4      1\n",
       "5      1"
      ]
     },
     "execution_count": 79,
     "metadata": {},
     "output_type": "execute_result"
    }
   ],
   "source": [
    "data_aspek_convert = pd.DataFrame({'hotel': actual_aspek[0]})\n",
    "data_aspek_convert"
   ]
  },
  {
   "cell_type": "code",
   "execution_count": 74,
   "id": "27909b23-45de-4f12-843b-91a34eff5823",
   "metadata": {},
   "outputs": [
    {
     "name": "stdout",
     "output_type": "stream",
     "text": [
      "       False  True\n",
      "False     28    29\n",
      "True      32    31\n"
     ]
    },
    {
     "data": {
      "image/png": "[encoded data removed]",
      "text/plain": [
       "<Figure size 432x288 with 2 Axes>"
      ]
     },
     "metadata": {
      "needs_background": "light"
     },
     "output_type": "display_data"
    }
   ],
   "source": [
    "confusion_mat_aspek = confusion_matrix(np.ravel(prediction_aspect_result), np.ravel(actual_aspek))\n",
    "\n",
    "confusion_df_aspek = pd.DataFrame(confusion_mat_aspek, index=['False', 'True'], columns=['False', 'True'])\n",
    "print(confusion_df)\n",
    "\n",
    "# Visualisasi confusion matrix\n",
    "sns.heatmap(confusion_df, annot=True, cmap='Blues')\n",
    "plt.xlabel('Predicted')\n",
    "plt.ylabel('Actual')\n",
    "plt.title('Confusion Matrix')\n",
    "plt.show()\n",
    "\n",
    "# print(confusion_mat)"
   ]
  },
  {
   "cell_type": "code",
   "execution_count": 75,
   "id": "53e7754c-e280-4240-acdb-04619b109054",
   "metadata": {},
   "outputs": [
    {
     "name": "stdout",
     "output_type": "stream",
     "text": [
      "Accuracy : 0.5013888888888889\n",
      "Precision : 0.49855907780979825\n",
      "Sensitivity_recall : 0.969187675070028\n",
      "F1_score : 0.6584205518553757\n"
     ]
    }
   ],
   "source": [
    "Accuracy = metrics.accuracy_score(np.ravel(actual_aspek), np.ravel(prediction_aspect_result))\n",
    "Precision = metrics.precision_score(np.ravel(actual_aspek), np.ravel(prediction_aspect_result))\n",
    "Sensitivity_recall = metrics.recall_score(np.ravel(actual_aspek), np.ravel(prediction_aspect_result))\n",
    "F1_score = metrics.f1_score(np.ravel(actual_aspek), np.ravel(prediction_aspect_result))\n",
    "print(\"Accuracy :\", Accuracy)\n",
    "print(\"Precision :\", Precision)\n",
    "print(\"Sensitivity_recall :\", Sensitivity_recall)\n",
    "print(\"F1_score :\", F1_score)"
   ]
  },
  {
   "cell_type": "code",
   "execution_count": 23,
   "id": "bf189fbe-24dd-4a57-88e7-6073a534750c",
   "metadata": {},
   "outputs": [
    {
     "name": "stdout",
     "output_type": "stream",
     "text": [
      "[1, 1, 1, 0, 1, 0, 0, 1, 1, 1, 0, 1, 0, 1, 1, 1, 0, 1, 0, 1, 1, 1, 1, 0, 1, 0, 1, 0, 0, 1, 1, 1, 1, 1, 1, 1, 1, 1, 1, 1, 0, 0, 0, 0, 0, 0, 0, 0, 0, 0, 0, 0, 0, 0, 0, 0, 0, 0, 0, 0, 1, 1, 1, 1, 1, 1, 1, 1, 1, 1, 1, 1, 1, 1, 0, 1, 1, 1, 0, 1, 1, 1, 1, 0, 1, 1, 1, 0, 1, 1, 1, 0, 1, 1, 0, 0, 1, 0, 0, 1, 0, 0, 0, 0, 0, 0, 0, 0, 0, 0, 1, 0, 0, 1, 0, 0, 1, 0, 0, 0]\n"
     ]
    }
   ],
   "source": [
    "model_sentiment = load_model('sentiment_aspek.h5')\n",
    "\n",
    "threshold = 0.5\n",
    "prediction_result = []\n",
    "\n",
    "predictions_label = model_sentiment.predict(X)\n",
    "predictions_label = tf.where(predictions_label < threshold, 0, 1)\n",
    "\n",
    "for result in predictions_label:\n",
    "    prediction_result.append(result[0].numpy())\n",
    "\n",
    "print(prediction_result)"
   ]
  },
  {
   "cell_type": "code",
   "execution_count": 27,
   "id": "91103e91-efef-4ecc-9c90-4c300805fb3d",
   "metadata": {},
   "outputs": [
    {
     "name": "stdout",
     "output_type": "stream",
     "text": [
      "[1, 1, 1, 1, 1, 1, 1, 1, 1, 1, 0, 0, 0, 0, 0, 0, 0, 0, 0, 0, 1, 1, 1, 1, 1, 1, 1, 1, 1, 1, 0, 0, 0, 0, 0, 0, 0, 0, 0, 0, 1, 1, 1, 1, 1, 1, 1, 1, 1, 1, 0, 0, 0, 0, 0, 0, 0, 0, 0, 0, 1, 1, 1, 1, 1, 1, 1, 1, 1, 1, 0, 0, 0, 0, 0, 0, 0, 0, 0, 0, 1, 1, 1, 1, 1, 1, 1, 1, 1, 1, 0, 0, 0, 0, 0, 0, 0, 0, 0, 0, 1, 1, 1, 1, 1, 1, 1, 1, 1, 1, 0, 0, 0, 0, 0, 0, 0, 0, 0, 0]\n"
     ]
    }
   ],
   "source": [
    "data = data_set['sentiment'].tolist()\n",
    "sentiment_mapping = {'positive': 1, 'negative': 0}\n",
    "actual_sentiment = [sentiment_mapping[sentiment] for sentiment in data]\n",
    "\n",
    "print(actual_sentiment)"
   ]
  },
  {
   "cell_type": "code",
   "execution_count": 28,
   "id": "29f1371b-71d4-44cd-96e4-f91823b60603",
   "metadata": {},
   "outputs": [
    {
     "name": "stdout",
     "output_type": "stream",
     "text": [
      "       False  True\n",
      "False     28    29\n",
      "True      32    31\n"
     ]
    },
    {
     "data": {
      "image/png": "[encoded data removed]",
      "text/plain": [
       "<Figure size 432x288 with 2 Axes>"
      ]
     },
     "metadata": {
      "needs_background": "light"
     },
     "output_type": "display_data"
    }
   ],
   "source": [
    "from sklearn.metrics import confusion_matrix\n",
    "import seaborn as sns\n",
    "\n",
    "# Membuat confusion matrix\n",
    "confusion_mat = confusion_matrix(prediction_result, actual_sentiment)\n",
    "\n",
    "confusion_df = pd.DataFrame(confusion_mat, index=['False', 'True'], columns=['False', 'True'])\n",
    "print(confusion_df)\n",
    "\n",
    "# Visualisasi confusion matrix\n",
    "sns.heatmap(confusion_df, annot=True, cmap='Blues')\n",
    "plt.xlabel('Predicted')\n",
    "plt.ylabel('Actual')\n",
    "plt.title('Confusion Matrix')\n",
    "plt.show()\n",
    "\n",
    "# print(confusion_mat)"
   ]
  },
  {
   "cell_type": "code",
   "execution_count": 29,
   "id": "b62e9bcd-3d2c-4bcf-b5ec-c06f69273f6f",
   "metadata": {},
   "outputs": [
    {
     "name": "stdout",
     "output_type": "stream",
     "text": [
      "Accuracy : 0.49166666666666664\n",
      "Precision : 0.49206349206349204\n",
      "Sensitivity_recall : 0.5166666666666667\n",
      "F1_score : 0.5040650406504066\n"
     ]
    }
   ],
   "source": [
    "Accuracy = metrics.accuracy_score(actual_sentiment, prediction_result)\n",
    "Precision = metrics.precision_score(actual_sentiment, prediction_result)\n",
    "Sensitivity_recall = metrics.recall_score(actual_sentiment, prediction_result)\n",
    "F1_score = metrics.f1_score(actual_sentiment, prediction_result)\n",
    "print(\"Accuracy :\", Accuracy)\n",
    "print(\"Precision :\", Precision)\n",
    "print(\"Sensitivity_recall :\", Sensitivity_recall)\n",
    "print(\"F1_score :\", F1_score)"
   ]
  },
  {
   "cell_type": "code",
   "execution_count": 77,
   "id": "6463c9af-cd71-4f72-ae75-678cf02d2c27",
   "metadata": {},
   "outputs": [
    {
     "name": "stdout",
     "output_type": "stream",
     "text": [
      "       False  True\n",
      "False      0     9\n",
      "True       1     8\n"
     ]
    },
    {
     "data": {
      "image/png": "[encoded data removed]",
      "text/plain": [
       "<Figure size 432x288 with 2 Axes>"
      ]
     },
     "metadata": {
      "needs_background": "light"
     },
     "output_type": "display_data"
    },
    {
     "name": "stdout",
     "output_type": "stream",
     "text": [
      "[[0 9]\n",
      " [1 8]]\n"
     ]
    }
   ],
   "source": [
    "from sklearn.metrics import confusion_matrix\n",
    "\n",
    "actual = [[1, 0, 0, 0, 1, 1],\n",
    "          [0, 0, 0, 1, 1, 1],\n",
    "          [0, 0, 1, 0, 1, 1]]\n",
    "\n",
    "predicted = [[1, 1, 1, 1, 1, 1],\n",
    "             [1, 1, 1, 1, 0, 1],\n",
    "             [1, 1, 1, 1, 1, 1]]\n",
    "\n",
    "# Menghitung confusion matrix\n",
    "confusion_mat = confusion_matrix(np.ravel(actual), np.ravel(predicted))\n",
    "\n",
    "confusion_df = pd.DataFrame(confusion_mat, index=['False', 'True'], columns=['False', 'True'])\n",
    "print(confusion_df)\n",
    "\n",
    "# Visualisasi confusion matrix\n",
    "sns.heatmap(confusion_df, annot=True, cmap='Blues')\n",
    "plt.xlabel('Predicted')\n",
    "plt.ylabel('Actual')\n",
    "plt.title('Confusion Matrix')\n",
    "plt.show()\n",
    "\n",
    "# print(confusion_mat)\n",
    "\n",
    "print(confusion_mat)\n"
   ]
  },
  {
   "cell_type": "code",
   "execution_count": null,
   "id": "49d215d2-bfe2-4ade-9874-d791010cfab0",
   "metadata": {},
   "outputs": [],
   "source": []
  },
  {
   "cell_type": "code",
   "execution_count": null,
   "id": "f961c0da-3d30-4b28-ba3a-daa3f42795c0",
   "metadata": {},
   "outputs": [],
   "source": [
    "\n"
   ]
  },
  {
   "cell_type": "code",
   "execution_count": null,
   "id": "e1eacab8-4191-4d16-8c02-f01fa7aa23d1",
   "metadata": {},
   "outputs": [],
   "source": []
  }
 ],
 "metadata": {
  "kernelspec": {
   "display_name": "Python 3",
   "language": "python",
   "name": "python3"
  },
  "language_info": {
   "codemirror_mode": {
    "name": "ipython",
    "version": 3
   },
   "file_extension": ".py",
   "mimetype": "text/x-python",
   "name": "python",
   "nbconvert_exporter": "python",
   "pygments_lexer": "ipython3",
   "version": "3.9.5"
  }
 },
 "nbformat": 4,
 "nbformat_minor": 5
}
