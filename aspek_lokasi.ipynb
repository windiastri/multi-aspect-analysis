{
 "cells": [
  {
   "cell_type": "code",
   "execution_count": 1,
   "id": "b3522fbd-9f7d-48a7-8550-2487b262ae1c",
   "metadata": {},
   "outputs": [
    {
     "data": {
      "text/html": [
       "<div>\n",
       "<style scoped>\n",
       "    .dataframe tbody tr th:only-of-type {\n",
       "        vertical-align: middle;\n",
       "    }\n",
       "\n",
       "    .dataframe tbody tr th {\n",
       "        vertical-align: top;\n",
       "    }\n",
       "\n",
       "    .dataframe thead th {\n",
       "        text-align: right;\n",
       "    }\n",
       "</style>\n",
       "<table border=\"1\" class=\"dataframe\">\n",
       "  <thead>\n",
       "    <tr style=\"text-align: right;\">\n",
       "      <th></th>\n",
       "      <th>clean text</th>\n",
       "      <th>aspect</th>\n",
       "      <th>sentiment</th>\n",
       "      <th>clean</th>\n",
       "    </tr>\n",
       "  </thead>\n",
       "  <tbody>\n",
       "    <tr>\n",
       "      <th>0</th>\n",
       "      <td>pemandangan nyaman</td>\n",
       "      <td>lokasi</td>\n",
       "      <td>positive</td>\n",
       "      <td>pemandangan nyaman</td>\n",
       "    </tr>\n",
       "    <tr>\n",
       "      <th>1</th>\n",
       "      <td>pemandangan kota baik</td>\n",
       "      <td>lokasi</td>\n",
       "      <td>positive</td>\n",
       "      <td>pemandangan kota baik</td>\n",
       "    </tr>\n",
       "    <tr>\n",
       "      <th>2</th>\n",
       "      <td>hotel nyaman sunyi</td>\n",
       "      <td>lokasi</td>\n",
       "      <td>positive</td>\n",
       "      <td>hotel nyaman sunyi</td>\n",
       "    </tr>\n",
       "    <tr>\n",
       "      <th>3</th>\n",
       "      <td>nyaman suasana tenang</td>\n",
       "      <td>lokasi</td>\n",
       "      <td>positive</td>\n",
       "      <td>nyaman suasana tenang</td>\n",
       "    </tr>\n",
       "    <tr>\n",
       "      <th>4</th>\n",
       "      <td>tempat sejuk</td>\n",
       "      <td>lokasi</td>\n",
       "      <td>positive</td>\n",
       "      <td>tempat sejuk</td>\n",
       "    </tr>\n",
       "  </tbody>\n",
       "</table>\n",
       "</div>"
      ],
      "text/plain": [
       "              clean text  aspect sentiment                  clean\n",
       "0     pemandangan nyaman  lokasi  positive     pemandangan nyaman\n",
       "1  pemandangan kota baik  lokasi  positive  pemandangan kota baik\n",
       "2     hotel nyaman sunyi  lokasi  positive     hotel nyaman sunyi\n",
       "3  nyaman suasana tenang  lokasi  positive  nyaman suasana tenang\n",
       "4           tempat sejuk  lokasi  positive           tempat sejuk"
      ]
     },
     "execution_count": 1,
     "metadata": {},
     "output_type": "execute_result"
    }
   ],
   "source": [
    "import pandas as pd\n",
    "import numpy as np\n",
    "# Libraries for Text Preprocessing\n",
    "import re\n",
    "from keras.preprocessing.text import Tokenizer\n",
    "from keras.preprocessing.sequence import pad_sequences\n",
    "# Libraries for Visualization\n",
    "import wordcloud\n",
    "import matplotlib.pyplot as plt\n",
    "import plotly.express as px\n",
    "# Libraries for Model\n",
    "from keras.models import Sequential\n",
    "from keras.layers import Conv2D, MaxPooling2D, Flatten, Dense, Embedding, LSTM, SpatialDropout1D\n",
    "from sklearn.model_selection import train_test_split\n",
    "from sklearn import metrics\n",
    "import tensorflow as tf\n",
    "\n",
    "data_set = pd.read_excel('aspek lokasi.xlsx')\n",
    "def remove_underscored(text):\n",
    "    return text.translate(str.maketrans('_', ' '))\n",
    "\n",
    "data_set[\"clean\"] = data_set[\"clean text\"].apply(lambda text: remove_underscored(text))\n",
    "data_set.head()"
   ]
  },
  {
   "cell_type": "code",
   "execution_count": 2,
   "id": "647efe77-68f9-4c51-98cd-c6d82bc986ca",
   "metadata": {},
   "outputs": [
    {
     "name": "stdout",
     "output_type": "stream",
     "text": [
      "0                           pemandangan nyaman\n",
      "1                        pemandangan kota baik\n",
      "2                           hotel nyaman sunyi\n",
      "3                        nyaman suasana tenang\n",
      "4                                 tempat sejuk\n",
      "                         ...                  \n",
      "1181           cukup sekali menginap hotel ini\n",
      "1182                        tidak akan kembali\n",
      "1183    tampilan gambar tidak sesuai kenyataan\n",
      "1184             pikir seribu kali nginep lagi\n",
      "1185                     tidak berharap banyak\n",
      "Name: clean, Length: 1186, dtype: object\n",
      "[[  27   12    0 ...    0    0    0]\n",
      " [  27   10   37 ...    0    0    0]\n",
      " [   2   12  173 ...    0    0    0]\n",
      " ...\n",
      " [1092 1093    5 ...    0    0    0]\n",
      " [1095 1096  322 ...    0    0    0]\n",
      " [   5 1097   19 ...    0    0    0]]\n",
      "(1186, 31)\n"
     ]
    },
    {
     "data": {
      "text/plain": [
       "1186"
      ]
     },
     "execution_count": 2,
     "metadata": {},
     "output_type": "execute_result"
    }
   ],
   "source": [
    "tokenizer=Tokenizer(num_words=1500)\n",
    "tokenizer.fit_on_texts(data_set[\"clean\"].values)\n",
    "X=tokenizer.texts_to_sequences(data_set[\"clean\"].values)\n",
    "X=pad_sequences(X, maxlen=31, padding='post')\n",
    "print(data_set[\"clean\"])\n",
    "print(X)\n",
    "print(X.shape)\n",
    "len(X)"
   ]
  },
  {
   "cell_type": "code",
   "execution_count": 3,
   "id": "81872c6f-6021-4b43-806b-ff390a17f519",
   "metadata": {},
   "outputs": [
    {
     "name": "stdout",
     "output_type": "stream",
     "text": [
      "      aspect_lokasi  aspect_lainnya\n",
      "0                 1               0\n",
      "1                 1               0\n",
      "2                 1               0\n",
      "3                 1               0\n",
      "4                 1               0\n",
      "...             ...             ...\n",
      "1181              0               1\n",
      "1182              0               1\n",
      "1183              0               1\n",
      "1184              0               1\n",
      "1185              0               1\n",
      "\n",
      "[1186 rows x 2 columns]\n"
     ]
    }
   ],
   "source": [
    "y=pd.get_dummies(data_set[[\"aspect\"]])\n",
    "\n",
    "# switch values for data aspect makanan\n",
    "new_column_order = ['aspect_lokasi', 'aspect_lainnya']\n",
    "y = y[new_column_order]\n",
    "\n",
    "x_train,x_test,y_train,y_test = train_test_split(X, y, test_size=0.2, random_state=42)\n",
    "print(y)"
   ]
  },
  {
   "cell_type": "code",
   "execution_count": 4,
   "id": "33cc6474-7d81-42c6-9131-213c5bb5563b",
   "metadata": {},
   "outputs": [
    {
     "name": "stdout",
     "output_type": "stream",
     "text": [
      "Epoch 1/10\n",
      "30/30 [==============================] - 3s 30ms/step - loss: 0.6168 - acc: 0.7257 - val_loss: 0.5670 - val_acc: 0.7563\n",
      "Epoch 2/10\n",
      "30/30 [==============================] - 1s 22ms/step - loss: 0.5680 - acc: 0.7468 - val_loss: 0.5556 - val_acc: 0.7563\n",
      "Epoch 3/10\n",
      "30/30 [==============================] - 1s 22ms/step - loss: 0.5699 - acc: 0.7468 - val_loss: 0.5580 - val_acc: 0.7563\n",
      "Epoch 4/10\n",
      "30/30 [==============================] - 1s 22ms/step - loss: 0.5667 - acc: 0.7468 - val_loss: 0.5556 - val_acc: 0.7563\n",
      "Epoch 5/10\n",
      "30/30 [==============================] - 1s 22ms/step - loss: 0.5675 - acc: 0.7468 - val_loss: 0.5544 - val_acc: 0.7563\n",
      "Epoch 6/10\n",
      "30/30 [==============================] - 1s 22ms/step - loss: 0.5718 - acc: 0.7468 - val_loss: 0.5564 - val_acc: 0.7563\n",
      "Epoch 7/10\n",
      "30/30 [==============================] - 1s 22ms/step - loss: 0.5660 - acc: 0.7468 - val_loss: 0.5541 - val_acc: 0.7563\n",
      "Epoch 8/10\n",
      "30/30 [==============================] - 1s 22ms/step - loss: 0.5544 - acc: 0.7447 - val_loss: 0.3650 - val_acc: 0.8950\n",
      "Epoch 9/10\n",
      "30/30 [==============================] - 1s 22ms/step - loss: 0.3324 - acc: 0.8544 - val_loss: 0.2684 - val_acc: 0.8697\n",
      "Epoch 10/10\n",
      "30/30 [==============================] - 1s 22ms/step - loss: 0.3633 - acc: 0.7700 - val_loss: 0.2998 - val_acc: 0.8403\n"
     ]
    }
   ],
   "source": [
    "model = Sequential()\n",
    "model.add(Embedding(1500, 32,input_length = 31))\n",
    "model.add(SpatialDropout1D(0.8))\n",
    "model.add(LSTM(64, dropout=0.4, recurrent_dropout=0.2))\n",
    "model.add(Dense(2,activation='softmax'))\n",
    "model.compile(optimizer='adam', loss='binary_crossentropy', metrics=['acc'])\n",
    "history = model.fit(\n",
    "    x_train,\n",
    "    y_train,\n",
    "    epochs=10,\n",
    "    batch_size=32,\n",
    "    validation_data=(x_test, y_test)\n",
    ")"
   ]
  },
  {
   "cell_type": "code",
   "execution_count": 5,
   "id": "8c916b47-60c3-460b-925f-76d30db5a1f7",
   "metadata": {},
   "outputs": [
    {
     "name": "stdout",
     "output_type": "stream",
     "text": [
      "prediction:  [0 1]\n"
     ]
    }
   ],
   "source": [
    "review_test=[\"ngaco\"]\n",
    "review_tok=tokenizer.texts_to_sequences(review_test)\n",
    "review_pad=pad_sequences(review_tok,maxlen=31,padding='post')\n",
    "prediction=model.predict(review_pad).flatten()\n",
    "\n",
    "# Convert probabilities to binary class labels\n",
    "threshold = 0.5\n",
    "prediction = tf.nn.softmax(prediction)\n",
    "prediction = tf.where(prediction < threshold, 0, 1)\n",
    "\n",
    "print(\"prediction: \", prediction.numpy())\n",
    "# print(\"predicted_labels: \",predicted_labels)"
   ]
  },
  {
   "cell_type": "code",
   "execution_count": 6,
   "id": "b908daae-acf4-404e-91bb-ef81a7770cca",
   "metadata": {},
   "outputs": [],
   "source": [
    "model.save('aspek_lokasi_4.h5')"
   ]
  }
 ],
 "metadata": {
  "kernelspec": {
   "display_name": "Python 3",
   "language": "python",
   "name": "python3"
  },
  "language_info": {
   "codemirror_mode": {
    "name": "ipython",
    "version": 3
   },
   "file_extension": ".py",
   "mimetype": "text/x-python",
   "name": "python",
   "nbconvert_exporter": "python",
   "pygments_lexer": "ipython3",
   "version": "3.9.5"
  }
 },
 "nbformat": 4,
 "nbformat_minor": 5
}
