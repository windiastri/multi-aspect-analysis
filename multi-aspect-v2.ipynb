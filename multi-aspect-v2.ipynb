{
 "cells": [
  {
   "cell_type": "code",
   "execution_count": 324,
   "id": "222b55e3-d9a9-406b-870c-e1819e3b37b5",
   "metadata": {},
   "outputs": [],
   "source": [
    "import pandas as pd\n",
    "import numpy as np\n",
    "# Libraries for Text Preprocessing\n",
    "import re\n",
    "from keras.preprocessing.text import Tokenizer\n",
    "from keras.preprocessing.sequence import pad_sequences\n",
    "# Libraries for Visualization\n",
    "import wordcloud\n",
    "import matplotlib.pyplot as plt\n",
    "import plotly.express as px\n",
    "# Libraries for Model\n",
    "from keras.models import Sequential\n",
    "from keras.layers import Conv2D, MaxPooling2D, Flatten, Dense, Embedding, LSTM, SpatialDropout1D\n",
    "from sklearn.model_selection import train_test_split\n",
    "from sklearn import metrics\n",
    "import seaborn as sns"
   ]
  },
  {
   "cell_type": "code",
   "execution_count": 299,
   "id": "6466f7e7-fa7c-405c-b164-37f80cd2ef5e",
   "metadata": {},
   "outputs": [
    {
     "data": {
      "text/html": [
       "<div>\n",
       "<style scoped>\n",
       "    .dataframe tbody tr th:only-of-type {\n",
       "        vertical-align: middle;\n",
       "    }\n",
       "\n",
       "    .dataframe tbody tr th {\n",
       "        vertical-align: top;\n",
       "    }\n",
       "\n",
       "    .dataframe thead th {\n",
       "        text-align: right;\n",
       "    }\n",
       "</style>\n",
       "<table border=\"1\" class=\"dataframe\">\n",
       "  <thead>\n",
       "    <tr style=\"text-align: right;\">\n",
       "      <th></th>\n",
       "      <th>clean text</th>\n",
       "      <th>aspect</th>\n",
       "      <th>sentiment</th>\n",
       "      <th>text</th>\n",
       "    </tr>\n",
       "  </thead>\n",
       "  <tbody>\n",
       "    <tr>\n",
       "      <th>0</th>\n",
       "      <td>shuttle gratis malioboro</td>\n",
       "      <td>harga</td>\n",
       "      <td>positive</td>\n",
       "      <td>shuttle gratis malioboro</td>\n",
       "    </tr>\n",
       "    <tr>\n",
       "      <th>1</th>\n",
       "      <td>dapat gratis course golf</td>\n",
       "      <td>harga</td>\n",
       "      <td>positive</td>\n",
       "      <td>dapat gratis course golf</td>\n",
       "    </tr>\n",
       "    <tr>\n",
       "      <th>2</th>\n",
       "      <td>gratis andong keliling</td>\n",
       "      <td>harga</td>\n",
       "      <td>positive</td>\n",
       "      <td>gratis andong keliling</td>\n",
       "    </tr>\n",
       "    <tr>\n",
       "      <th>3</th>\n",
       "      <td>sesuai harga</td>\n",
       "      <td>harga</td>\n",
       "      <td>positive</td>\n",
       "      <td>sesuai harga</td>\n",
       "    </tr>\n",
       "    <tr>\n",
       "      <th>4</th>\n",
       "      <td>harga terjangkau</td>\n",
       "      <td>harga</td>\n",
       "      <td>positive</td>\n",
       "      <td>harga terjangkau</td>\n",
       "    </tr>\n",
       "  </tbody>\n",
       "</table>\n",
       "</div>"
      ],
      "text/plain": [
       "                 clean text aspect sentiment                      text\n",
       "0  shuttle gratis malioboro  harga  positive  shuttle gratis malioboro\n",
       "1  dapat gratis course golf  harga  positive  dapat gratis course golf\n",
       "2    gratis andong keliling  harga  positive    gratis andong keliling\n",
       "3              sesuai harga  harga  positive              sesuai harga\n",
       "4          harga terjangkau  harga  positive          harga terjangkau"
      ]
     },
     "execution_count": 299,
     "metadata": {},
     "output_type": "execute_result"
    }
   ],
   "source": [
    "data_set = pd.read_excel('aspek harga.xlsx')\n",
    "data_set['text'] = data_set['clean text']\n",
    "data_set.head()"
   ]
  },
  {
   "cell_type": "code",
   "execution_count": 300,
   "id": "ccc8fb27-6c55-4073-a073-4d46b0c522fc",
   "metadata": {},
   "outputs": [
    {
     "name": "stdout",
     "output_type": "stream",
     "text": [
      "0                          shuttle gratis malioboro\n",
      "1                          dapat gratis course golf\n",
      "2                            gratis andong keliling\n",
      "3                                      sesuai harga\n",
      "4                                  harga terjangkau\n",
      "                           ...                     \n",
      "1188                            kondisi menyedihkan\n",
      "1189           anak kelaperan tunggu makanan datang\n",
      "1190                 tidak_sempat menikmati sarapan\n",
      "1191                       kecewa helm motor dicuri\n",
      "1192    tidak_ada kompensasi ganti rugi pihak hotel\n",
      "Name: text, Length: 1193, dtype: object\n",
      "[[132   9 305 ...   0   0   0]\n",
      " [ 12   9 440 ...   0   0   0]\n",
      " [  9 442 306 ...   0   0   0]\n",
      " ...\n",
      " [  2 439 299 ...   0   0   0]\n",
      " [ 75 433 301 ...   0   0   0]\n",
      " [  2   5 437 ...   0   0   0]]\n",
      "(1193, 31)\n"
     ]
    },
    {
     "data": {
      "text/plain": [
       "1193"
      ]
     },
     "execution_count": 300,
     "metadata": {},
     "output_type": "execute_result"
    }
   ],
   "source": [
    "tokenizer=Tokenizer(num_words=1500)\n",
    "tokenizer.fit_on_texts(data_set[\"text\"].values)\n",
    "X=tokenizer.texts_to_sequences(data_set[\"text\"].values)\n",
    "X=pad_sequences(X, maxlen=31, padding='post')\n",
    "print(data_set[\"text\"])\n",
    "print(X)\n",
    "print(X.shape)\n",
    "len(X)"
   ]
  },
  {
   "cell_type": "code",
   "execution_count": 30,
   "id": "7b0e28c7-10da-4a46-842b-afc9a1018aa2",
   "metadata": {},
   "outputs": [],
   "source": [
    "# print(tokenizer.index_word)"
   ]
  },
  {
   "cell_type": "code",
   "execution_count": 302,
   "id": "d127a294-3eab-4a07-a0f4-f76f98b09a39",
   "metadata": {},
   "outputs": [
    {
     "name": "stdout",
     "output_type": "stream",
     "text": [
      "X Train:  (954, 31)\n",
      "Y Train:  (954, 2)\n",
      "X Test:  (239, 31)\n",
      "Y Test:  (239, 2)\n",
      "      aspect_harga  aspect_lainnya\n",
      "0                1               0\n",
      "1                1               0\n",
      "2                1               0\n",
      "3                1               0\n",
      "4                1               0\n",
      "...            ...             ...\n",
      "1188             0               1\n",
      "1189             0               1\n",
      "1190             0               1\n",
      "1191             0               1\n",
      "1192             0               1\n",
      "\n",
      "[1193 rows x 2 columns]\n"
     ]
    }
   ],
   "source": [
    "y=pd.get_dummies(data_set[[\"aspect\"]])\n",
    "\n",
    "# switch values for data aspect makanan\n",
    "new_column_order = ['aspect_harga', 'aspect_lainnya']\n",
    "y = y[new_column_order]\n",
    "\n",
    "# Split the data into training and testing sets\n",
    "x_train,x_test,y_train,y_test = train_test_split(X, y, test_size=0.2, random_state=42)\n",
    "print(\"X Train: \",x_train.shape)\n",
    "print(\"Y Train: \",y_train.shape)\n",
    "print(\"X Test: \",x_test.shape)\n",
    "print(\"Y Test: \",y_test.shape)\n",
    "print(y)"
   ]
  },
  {
   "cell_type": "code",
   "execution_count": 303,
   "id": "b358ce0e-d277-4d51-bd2e-af367480d6cc",
   "metadata": {},
   "outputs": [
    {
     "name": "stdout",
     "output_type": "stream",
     "text": [
      "Epoch 1/10\n",
      "30/30 [==============================] - 3s 29ms/step - loss: 0.6553 - acc: 0.6688 - val_loss: 0.6197 - val_acc: 0.6946\n",
      "Epoch 2/10\n",
      "30/30 [==============================] - 1s 22ms/step - loss: 0.6256 - acc: 0.6876 - val_loss: 0.6167 - val_acc: 0.6946\n",
      "Epoch 3/10\n",
      "30/30 [==============================] - 1s 22ms/step - loss: 0.6279 - acc: 0.6876 - val_loss: 0.6149 - val_acc: 0.6946\n",
      "Epoch 4/10\n",
      "30/30 [==============================] - 1s 23ms/step - loss: 0.6199 - acc: 0.6876 - val_loss: 0.6158 - val_acc: 0.6946\n",
      "Epoch 5/10\n",
      "30/30 [==============================] - 1s 23ms/step - loss: 0.6192 - acc: 0.6876 - val_loss: 0.6139 - val_acc: 0.6946\n",
      "Epoch 6/10\n",
      "30/30 [==============================] - 1s 24ms/step - loss: 0.6002 - acc: 0.6960 - val_loss: 0.3372 - val_acc: 0.9414\n",
      "Epoch 7/10\n",
      "30/30 [==============================] - 1s 23ms/step - loss: 0.3875 - acc: 0.8595 - val_loss: 0.2333 - val_acc: 0.9456\n",
      "Epoch 8/10\n",
      "30/30 [==============================] - 1s 24ms/step - loss: 0.3495 - acc: 0.8543 - val_loss: 0.2162 - val_acc: 0.9498\n",
      "Epoch 9/10\n",
      "30/30 [==============================] - 1s 22ms/step - loss: 0.3058 - acc: 0.8595 - val_loss: 0.2377 - val_acc: 0.8996\n",
      "Epoch 10/10\n",
      "30/30 [==============================] - 1s 22ms/step - loss: 0.3471 - acc: 0.8103 - val_loss: 0.2546 - val_acc: 0.9038\n"
     ]
    }
   ],
   "source": [
    "import tensorflow as tf\n",
    "\n",
    "model = Sequential()\n",
    "model.add(Embedding(1500, 32,input_length = 31))\n",
    "model.add(SpatialDropout1D(0.8))\n",
    "model.add(LSTM(64, dropout=0.4, recurrent_dropout=0.2))\n",
    "model.add(Dense(2,activation='sigmoid'))\n",
    "model.compile(optimizer='adam', loss='binary_crossentropy', metrics=['acc'])\n",
    "history = model.fit(\n",
    "    x_train,\n",
    "    y_train,\n",
    "    epochs=10,\n",
    "    batch_size=32,\n",
    "    validation_data=(x_test, y_test)\n",
    ")"
   ]
  },
  {
   "cell_type": "code",
   "execution_count": 275,
   "id": "f8ba8c4b-b342-4e33-9900-44aa24cf3aa7",
   "metadata": {},
   "outputs": [
    {
     "name": "stdout",
     "output_type": "stream",
     "text": [
      "prediction:  [1 0]\n",
      "predicted_labels:  tf.Tensor([1 0], shape=(2,), dtype=int32)\n"
     ]
    }
   ],
   "source": [
    "# Hotel yang nyaman, tempat tidur besar, toilet bersih, sarapan enak dan variasi makanan lumayan banyak. \n",
    "review_test=['taman luas dan nuansanya kuno']\n",
    "review_tok=tokenizer.texts_to_sequences(review_test)\n",
    "review_pad=pad_sequences(review_tok,maxlen=31,padding='post')\n",
    "prediction=model.predict(review_pad).flatten()\n",
    "\n",
    "# Convert probabilities to binary class labels\n",
    "threshold = 0.5\n",
    "prediction = tf.nn.softmax(prediction)\n",
    "prediction = tf.where(prediction < threshold, 0, 1)\n",
    "\n",
    "print(\"prediction: \", prediction.numpy())\n",
    "print(\"predicted_labels: \",prediction)"
   ]
  },
  {
   "cell_type": "code",
   "execution_count": 276,
   "id": "be559046-a772-4a91-9838-701ef6cdf89c",
   "metadata": {},
   "outputs": [],
   "source": [
    "model.save('aspek_hotel.h5')"
   ]
  },
  {
   "cell_type": "code",
   "execution_count": 390,
   "id": "16023dfb-533c-4340-9b44-5b1e72d27216",
   "metadata": {},
   "outputs": [
    {
     "name": "stdout",
     "output_type": "stream",
     "text": [
      "[[0 0 0 0 0 0 0 0 0 0 0 0 0 0 0 0 0 0 0 0 0 0 0 0 0 0 0 0 0 0 0]]\n",
      "[0, 0, 0, 0, 0]\n"
     ]
    }
   ],
   "source": [
    "# Iterate over the models and make predictions\n",
    "test_data = ['pelayanan semua ramah']\n",
    "# test_data = ['staff cepat tanggap dan ramah pada tamu']\n",
    "# test_data = ['menu resto sesuai selera lidah']\n",
    "tokenizer=Tokenizer(num_words=1000)\n",
    "test_data_tok=tokenizer.texts_to_sequences(test_data)\n",
    "test_data_pad=pad_sequences(test_data_tok,maxlen=31,padding='post')\n",
    "\n",
    "print(test_data_pad)\n",
    "\n",
    "models = ['aspek_pelayanan.h5', 'aspek_kamar.h5', 'aspek_makanan.h5', 'aspek_harga.h5', 'aspek_hotel.h5']\n",
    "predictions = []\n",
    "prediction_label = []\n",
    "threshold = 0.5\n",
    "\n",
    "for model_filename in models:\n",
    "    model_all = tf.keras.models.load_model(model_filename)\n",
    "    model_predictions = model_all.predict(test_data_pad).flatten()\n",
    "    model_predictions = tf.where(model_predictions < threshold, 0, 1)\n",
    "    predictions.append(model_predictions.numpy())\n",
    "\n",
    "for result in predictions:\n",
    "    prediction_label.append(result[0])\n",
    "\n",
    "print(prediction_label)"
   ]
  },
  {
   "cell_type": "code",
   "execution_count": 156,
   "id": "e530d964-aa4d-43ab-a8e2-31345bf17872",
   "metadata": {},
   "outputs": [
    {
     "name": "stdout",
     "output_type": "stream",
     "text": [
      "[1, -1]\n"
     ]
    }
   ],
   "source": [
    "# # test_data =['Overall bagus, makanannya lumayanlah yaaa, keramahan oke, dan yang bikin nilai tambah kalau sabtu ada event buat para milenial, dan acaranya seru! Sukses terus']\n",
    "# test_data_sentiment = ['harga terjangkau']\n",
    "# test_data_tok=tokenizer.texts_to_sequences(test_data_sentiment)\n",
    "# test_data_pad=pad_sequences(test_data_tok,maxlen=31,padding='post')\n",
    "\n",
    "# model_sentiment = ['sentiment_aspek_harga.h5','sentiment_aspek_pelayanan.h5']  # List of models\n",
    "# prediction_result = []\n",
    "# prediction_sentiments = []\n",
    "# threshold = 0.5\n",
    "\n",
    "# for model_sentiment_filename in model_sentiment:\n",
    "#     model_all = tf.keras.models.load_model(model_sentiment_filename)\n",
    "#     model_predictions_sentiments = model_all.predict(test_data_pad).flatten()\n",
    "# #     model_predictions_sentiments = tf.nn.softmax(model_predictions_sentiments)\n",
    "#     model_predictions_sentiments = tf.where(model_predictions_sentiments < threshold, -1, 1)\n",
    "#     prediction_result.append(model_predictions_sentiments.numpy())\n",
    "\n",
    "\n",
    "# for result in prediction_result:\n",
    "#     prediction_sentiments.append(result[0])\n",
    "# #     print(result[0])\n",
    "\n",
    "# print(prediction_sentiments)"
   ]
  },
  {
   "cell_type": "code",
   "execution_count": 157,
   "id": "f0444c17-6ef9-4908-a4a9-d00f96566bbe",
   "metadata": {},
   "outputs": [
    {
     "name": "stdout",
     "output_type": "stream",
     "text": [
      "[1, 0]\n"
     ]
    }
   ],
   "source": [
    "def append_to_array(array_1, array_2):\n",
    "    array_3 = []\n",
    "\n",
    "    for i in range(len(array_1)):\n",
    "        if array_1[i] == 1:\n",
    "            array_3.append(array_2[i])\n",
    "        else:\n",
    "            array_3.append(0)\n",
    "\n",
    "    return array_3\n",
    "\n",
    "predicted_result = append_to_array(prediction_label, prediction_sentiments)\n",
    "print(predicted_result)"
   ]
  },
  {
   "cell_type": "code",
   "execution_count": null,
   "id": "1345cede-4f33-425d-8878-ddf600e7d1a8",
   "metadata": {},
   "outputs": [],
   "source": []
  },
  {
   "cell_type": "code",
   "execution_count": 110,
   "id": "184b66a3-5434-4c11-9b6c-ba5b41e84482",
   "metadata": {},
   "outputs": [
    {
     "data": {
      "image/png": "[encoded data removed]",
      "text/plain": [
       "<Figure size 432x288 with 2 Axes>"
      ]
     },
     "metadata": {
      "needs_background": "light"
     },
     "output_type": "display_data"
    }
   ],
   "source": [
    "actual = [0,0,0,1,1]\n",
    "predicted = prediction_label\n",
    "confusion_matrix = metrics.confusion_matrix(actual, predicted)\n",
    "cm_display = metrics.ConfusionMatrixDisplay(confusion_matrix = confusion_matrix, display_labels = [False, True])\n",
    "cm_display.plot()\n",
    "plt.show()"
   ]
  },
  {
   "cell_type": "code",
   "execution_count": 111,
   "id": "08fb6106-5d9f-4153-b1c4-c0c292eebe3a",
   "metadata": {},
   "outputs": [
    {
     "name": "stdout",
     "output_type": "stream",
     "text": [
      "0.8\n",
      "0.6666666666666666\n",
      "1.0\n",
      "0.8\n"
     ]
    }
   ],
   "source": [
    "Accuracy = metrics.accuracy_score(actual, predicted)\n",
    "Precision = metrics.precision_score(actual, predicted)\n",
    "Sensitivity_recall = metrics.recall_score(actual, predicted)\n",
    "F1_score = metrics.f1_score(actual, predicted)\n",
    "print(Accuracy)\n",
    "print(Precision)\n",
    "print(Sensitivity_recall)\n",
    "print(F1_score)"
   ]
  },
  {
   "cell_type": "code",
   "execution_count": 400,
   "id": "91c3b4b7-171e-453b-a585-4e577de26eae",
   "metadata": {},
   "outputs": [
    {
     "name": "stdout",
     "output_type": "stream",
     "text": [
      "[[0. 0. 0. 0. 0. 0.]\n",
      " [0. 0. 0. 0. 0. 0.]\n",
      " [0. 0. 0. 0. 0. 0.]\n",
      " [0. 0. 0. 0. 0. 0.]\n",
      " [0. 0. 0. 0. 0. 0.]\n",
      " [0. 0. 0. 0. 0. 0.]]\n",
      "[1 0 1 0 1 0 1 0 1 0 1 0]\n",
      "[1 0 1 0 1 0 1 0 1 0 1 0]\n",
      "[1 0 1 0 0 1 1 0 1 0 1 0]\n",
      "[1 0 1 0 1 0 1 0 0 1 1 0]\n",
      "[1 0 1 0 1 0 1 0 1 0 1 0]\n",
      "[1 0 1 0 1 0 1 0 0 1 1 0]\n",
      "['pelayanan semua ramah dan sopan', 'yang tidak disukai kamar tidak_kedap suara', 'makanan enak semua', 'fasilitas hotel yang sangat lengkap seperti bintang lima', 'lokasi hotel strategis dekat banyak rumah makan', 'Pelayanan yang diberikan oleh staf baik.']\n"
     ]
    }
   ],
   "source": [
    "import pandas as pd\n",
    "import numpy as np\n",
    "from keras.preprocessing.text import Tokenizer\n",
    "from keras.preprocessing.sequence import pad_sequences\n",
    "from keras.models import load_model\n",
    "\n",
    "# Baca dataset dari file csv\n",
    "# test_2 = pd.read_csv('test_2.csv')\n",
    "test_list = ['pelayanan semua ramah dan sopan',\n",
    "             'yang tidak disukai kamar tidak_kedap suara',\n",
    "             'makanan enak semua',\n",
    "             'fasilitas hotel yang sangat lengkap seperti bintang lima',\n",
    "             'lokasi hotel strategis dekat banyak rumah makan',\n",
    "             'Pelayanan yang diberikan oleh staf baik.']\n",
    "test_len = len(test_list)\n",
    "\n",
    "# Load model-model yang sudah disimpan\n",
    "model_filenames = ['aspek_pelayanan.h5', 'aspek_kamar.h5', 'aspek_makanan.h5', 'aspek_harga.h5', 'aspek_hotel.h5', 'aspek_lokasi.h5']  # List of models\n",
    "models = []\n",
    "for filename in model_filenames:\n",
    "    model = load_model(filename)\n",
    "    models.append(model)\n",
    "\n",
    "# Proses data uji\n",
    "tokenizer = Tokenizer(num_words=1500)\n",
    "tokenizer.fit_on_texts(test_list)\n",
    "test_sequences = tokenizer.texts_to_sequences(test_list)\n",
    "test_pad = pad_sequences(test_sequences, maxlen=31, padding='post')\n",
    "\n",
    "predictions = np.zeros((test_len, len(models)))\n",
    "\n",
    "print(predictions)\n",
    "\n",
    "for i, model in enumerate(models):\n",
    "    preds = model.predict(test_pad)\n",
    "    preds = tf.nn.softmax(preds)\n",
    "    preds_binary = np.where(preds > 0.5, 1, 0)\n",
    "#     predictions[:, i] = preds_binary.flatten()\n",
    "    print(preds_binary.flatten())\n",
    "#     predictions[:,i] = preds_binary[0].flatten()\n",
    "\n",
    "\n",
    "print(test_list)"
   ]
  },
  {
   "cell_type": "code",
   "execution_count": 325,
   "id": "aea46738-0b51-414b-8bde-33bfef2d64c2",
   "metadata": {},
   "outputs": [
    {
     "name": "stdout",
     "output_type": "stream",
     "text": [
      "          Predicted 0  Predicted 1\n",
      "Actual 0            7            1\n",
      "Actual 1            1            7\n"
     ]
    },
    {
     "data": {
      "image/png": "[encoded data removed]",
      "text/plain": [
       "<Figure size 432x288 with 2 Axes>"
      ]
     },
     "metadata": {
      "needs_background": "light"
     },
     "output_type": "display_data"
    }
   ],
   "source": [
    "from sklearn.metrics import confusion_matrix\n",
    "\n",
    "# Nilai prediksi dan actual dalam bentuk list of array\n",
    "y_pred = [[1, 0, 1, 0],\n",
    "          [0, 1, 0, 1],\n",
    "          [1, 0, 0, 1],\n",
    "          [0, 1, 1, 0]]\n",
    "y_actual = [[1, 0, 1, 1],\n",
    "            [0, 1, 0, 1],\n",
    "            [1, 0, 0, 1],\n",
    "            [0, 0, 1, 0]]\n",
    "\n",
    "# Menggabungkan semua nilai prediksi dan actual menjadi satu list\n",
    "y_pred_flat = [item for sublist in y_pred for item in sublist]\n",
    "y_actual_flat = [item for sublist in y_actual for item in sublist]\n",
    "\n",
    "# Membuat confusion matrix\n",
    "confusion_mat = confusion_matrix(y_actual_flat, y_pred_flat)\n",
    "\n",
    "confusion_df = pd.DataFrame(confusion_mat, index=['Actual 0', 'Actual 1'], columns=['Predicted 0', 'Predicted 1'])\n",
    "print(confusion_df)\n",
    "\n",
    "# Visualisasi confusion matrix\n",
    "sns.heatmap(confusion_df, annot=True, cmap='Blues')\n",
    "plt.xlabel('Predicted')\n",
    "plt.ylabel('Actual')\n",
    "plt.title('Confusion Matrix')\n",
    "plt.show()\n",
    "\n",
    "# print(confusion_mat)"
   ]
  },
  {
   "cell_type": "code",
   "execution_count": null,
   "id": "f585f9a6-e3f7-4ba0-9d5b-8e7249481e82",
   "metadata": {},
   "outputs": [],
   "source": []
  }
 ],
 "metadata": {
  "kernelspec": {
   "display_name": "Python 3",
   "language": "python",
   "name": "python3"
  },
  "language_info": {
   "codemirror_mode": {
    "name": "ipython",
    "version": 3
   },
   "file_extension": ".py",
   "mimetype": "text/x-python",
   "name": "python",
   "nbconvert_exporter": "python",
   "pygments_lexer": "ipython3",
   "version": "3.9.5"
  }
 },
 "nbformat": 4,
 "nbformat_minor": 5
}
