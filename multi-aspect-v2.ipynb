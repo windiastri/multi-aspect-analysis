{
 "cells": [
  {
   "cell_type": "code",
   "execution_count": 1,
   "id": "222b55e3-d9a9-406b-870c-e1819e3b37b5",
   "metadata": {},
   "outputs": [],
   "source": [
    "import pandas as pd\n",
    "import numpy as np\n",
    "# Libraries for Text Preprocessing\n",
    "import re\n",
    "from keras.preprocessing.text import Tokenizer\n",
    "from keras.preprocessing.sequence import pad_sequences\n",
    "# Libraries for Model\n",
    "from keras.models import Sequential\n",
    "from keras.layers import Flatten, Dense, Embedding, LSTM, SpatialDropout1D\n",
    "from sklearn.model_selection import train_test_split\n",
    "from sklearn import metrics\n",
    "import seaborn as sns\n",
    "\n",
    "tokenizer=Tokenizer()"
   ]
  },
  {
   "cell_type": "code",
   "execution_count": 2,
   "id": "6466f7e7-fa7c-405c-b164-37f80cd2ef5e",
   "metadata": {},
   "outputs": [
    {
     "data": {
      "text/html": [
       "<div>\n",
       "<style scoped>\n",
       "    .dataframe tbody tr th:only-of-type {\n",
       "        vertical-align: middle;\n",
       "    }\n",
       "\n",
       "    .dataframe tbody tr th {\n",
       "        vertical-align: top;\n",
       "    }\n",
       "\n",
       "    .dataframe thead th {\n",
       "        text-align: right;\n",
       "    }\n",
       "</style>\n",
       "<table border=\"1\" class=\"dataframe\">\n",
       "  <thead>\n",
       "    <tr style=\"text-align: right;\">\n",
       "      <th></th>\n",
       "      <th>clean text</th>\n",
       "      <th>aspect</th>\n",
       "      <th>sentiment</th>\n",
       "      <th>text</th>\n",
       "    </tr>\n",
       "  </thead>\n",
       "  <tbody>\n",
       "    <tr>\n",
       "      <th>0</th>\n",
       "      <td>pool mohon pelaksanaan prokes lebih_diperketat...</td>\n",
       "      <td>pelayanan</td>\n",
       "      <td>negative</td>\n",
       "      <td>pool mohon pelaksanaan prokes lebih_diperketat...</td>\n",
       "    </tr>\n",
       "    <tr>\n",
       "      <th>1</th>\n",
       "      <td>tidak_ada welcome_drink</td>\n",
       "      <td>pelayanan</td>\n",
       "      <td>negative</td>\n",
       "      <td>tidak_ada welcome_drink</td>\n",
       "    </tr>\n",
       "    <tr>\n",
       "      <th>2</th>\n",
       "      <td>pengembalian uang deposit berteletele</td>\n",
       "      <td>pelayanan</td>\n",
       "      <td>negative</td>\n",
       "      <td>pengembalian uang deposit berteletele</td>\n",
       "    </tr>\n",
       "    <tr>\n",
       "      <th>3</th>\n",
       "      <td>harga refund tidak_kunjung dibayarkan bulan juni</td>\n",
       "      <td>pelayanan</td>\n",
       "      <td>negative</td>\n",
       "      <td>harga refund tidak_kunjung dibayarkan bulan juni</td>\n",
       "    </tr>\n",
       "    <tr>\n",
       "      <th>4</th>\n",
       "      <td>uang tidak_ada kabar refund</td>\n",
       "      <td>pelayanan</td>\n",
       "      <td>negative</td>\n",
       "      <td>uang tidak_ada kabar refund</td>\n",
       "    </tr>\n",
       "  </tbody>\n",
       "</table>\n",
       "</div>"
      ],
      "text/plain": [
       "                                          clean text     aspect sentiment  \\\n",
       "0  pool mohon pelaksanaan prokes lebih_diperketat...  pelayanan  negative   \n",
       "1                            tidak_ada welcome_drink  pelayanan  negative   \n",
       "2              pengembalian uang deposit berteletele  pelayanan  negative   \n",
       "3   harga refund tidak_kunjung dibayarkan bulan juni  pelayanan  negative   \n",
       "4                        uang tidak_ada kabar refund  pelayanan  negative   \n",
       "\n",
       "                                                text  \n",
       "0  pool mohon pelaksanaan prokes lebih_diperketat...  \n",
       "1                            tidak_ada welcome_drink  \n",
       "2              pengembalian uang deposit berteletele  \n",
       "3   harga refund tidak_kunjung dibayarkan bulan juni  \n",
       "4                        uang tidak_ada kabar refund  "
      ]
     },
     "execution_count": 2,
     "metadata": {},
     "output_type": "execute_result"
    }
   ],
   "source": [
    "data_set = pd.read_excel('aspek pelayanan.xlsx')\n",
    "data_set['text'] = data_set['clean text']\n",
    "data_set.head()"
   ]
  },
  {
   "cell_type": "code",
   "execution_count": 3,
   "id": "ccc8fb27-6c55-4073-a073-4d46b0c522fc",
   "metadata": {},
   "outputs": [
    {
     "name": "stdout",
     "output_type": "stream",
     "text": [
      "1305\n",
      "(1231, 31)\n"
     ]
    }
   ],
   "source": [
    "tokenizer.fit_on_texts(data_set[\"text\"].values)\n",
    "X_fasilitas=tokenizer.texts_to_sequences(data_set[\"text\"].values)\n",
    "X_fasilitas=pad_sequences(X_fasilitas, maxlen=31, padding='post')\n",
    "vocab_size = len(tokenizer.word_index) + 1\n",
    "\n",
    "print(vocab_size)\n",
    "print(X_fasilitas.shape)\n",
    "\n",
    "# len(X_harga)"
   ]
  },
  {
   "cell_type": "code",
   "execution_count": 387,
   "id": "7b0e28c7-10da-4a46-842b-afc9a1018aa2",
   "metadata": {},
   "outputs": [
    {
     "name": "stdout",
     "output_type": "stream",
     "text": [
      "      aspect_lainnya  aspect_pelayanan\n",
      "0                  0                 1\n",
      "1                  0                 1\n",
      "2                  0                 1\n",
      "3                  0                 1\n",
      "4                  0                 1\n",
      "...              ...               ...\n",
      "1226               1                 0\n",
      "1227               1                 0\n",
      "1228               1                 0\n",
      "1229               1                 0\n",
      "1230               1                 0\n",
      "\n",
      "[1231 rows x 2 columns]\n"
     ]
    }
   ],
   "source": [
    "y=pd.get_dummies(data_set[[\"aspect\"]])\n",
    "print(y)"
   ]
  },
  {
   "cell_type": "code",
   "execution_count": 5,
   "id": "d127a294-3eab-4a07-a0f4-f76f98b09a39",
   "metadata": {},
   "outputs": [
    {
     "name": "stdout",
     "output_type": "stream",
     "text": [
      "Y Train:  (984, 2)\n",
      "X Test:  (247, 31)\n",
      "Y Test:  (247, 2)\n",
      "      aspect_pelayanan  aspect_lainnya\n",
      "0                    1               0\n",
      "1                    1               0\n",
      "2                    1               0\n",
      "3                    1               0\n",
      "4                    1               0\n",
      "...                ...             ...\n",
      "1226                 0               1\n",
      "1227                 0               1\n",
      "1228                 0               1\n",
      "1229                 0               1\n",
      "1230                 0               1\n",
      "\n",
      "[1231 rows x 2 columns]\n"
     ]
    }
   ],
   "source": [
    "y=pd.get_dummies(data_set[[\"aspect\"]])\n",
    "\n",
    "# switch values for data aspect makanan\n",
    "new_column_order = ['aspect_pelayanan', 'aspect_lainnya']\n",
    "y = y[new_column_order]\n",
    "\n",
    "# Split the data into training and testing sets\n",
    "x_train,x_test,y_train,y_test = train_test_split(X_fasilitas, y, test_size=0.2, random_state=42)\n",
    "# print(\"X Train: \",X_kamar)\n",
    "print(\"Y Train: \",y_train.shape)\n",
    "print(\"X Test: \",x_test.shape)\n",
    "print(\"Y Test: \",y_test.shape)\n",
    "print(y)"
   ]
  },
  {
   "cell_type": "code",
   "execution_count": 9,
   "id": "b358ce0e-d277-4d51-bd2e-af367480d6cc",
   "metadata": {},
   "outputs": [
    {
     "name": "stdout",
     "output_type": "stream",
     "text": [
      "Model: \"sequential_3\"\n",
      "_________________________________________________________________\n",
      " Layer (type)                Output Shape              Param #   \n",
      "=================================================================\n",
      " embedding_3 (Embedding)     (None, 31, 32)            104992    \n",
      "                                                                 \n",
      " spatial_dropout1d_3 (Spatia  (None, 31, 32)           0         \n",
      " lDropout1D)                                                     \n",
      "                                                                 \n",
      " lstm_3 (LSTM)               (None, 64)                24832     \n",
      "                                                                 \n",
      " dense_3 (Dense)             (None, 2)                 130       \n",
      "                                                                 \n",
      "=================================================================\n",
      "Total params: 129,954\n",
      "Trainable params: 129,954\n",
      "Non-trainable params: 0\n",
      "_________________________________________________________________\n"
     ]
    }
   ],
   "source": [
    "import tensorflow as tf\n",
    "\n",
    "# vocab_size = len(tokenizer.word_index) + 1\n",
    "\n",
    "model = Sequential()\n",
    "model.add(Embedding(3281, 32,input_length = 31))\n",
    "model.add(SpatialDropout1D(0.8))\n",
    "model.add(LSTM(64, dropout=0.4, recurrent_dropout=0.2))\n",
    "model.add(Dense(2,activation='sigmoid'))\n",
    "model.compile(optimizer='adam', loss='binary_crossentropy', metrics=['acc'])\n",
    "history = model_pelayanan.fit(\n",
    "    x_train,\n",
    "    y_train,\n",
    "    epochs=10,\n",
    "    batch_size=32,\n",
    "    validation_data=(x_test, y_test)\n",
    ")\n",
    "model.summary()"
   ]
  },
  {
   "cell_type": "code",
   "execution_count": 397,
   "id": "f8ba8c4b-b342-4e33-9900-44aa24cf3aa7",
   "metadata": {},
   "outputs": [
    {
     "name": "stdout",
     "output_type": "stream",
     "text": [
      "predicted_labels:  [0.8726002  0.13076615]\n",
      "review_pad : [[  9 294  81  13   0   0   0   0   0   0   0   0   0   0   0   0   0   0\n",
      "    0   0   0   0   0   0   0   0   0   0   0   0   0]]\n"
     ]
    }
   ],
   "source": [
    "# Hotel yang nyaman, tempat tidur besar, toilet bersih, sarapan enak dan variasi makanan lumayan banyak. \n",
    "# review_test=['harga kamar terlalu mahal']\n",
    "# review_test = ['makanan enak semua']\n",
    "# review_test = ['kamar luas dan nyaman']\n",
    "# review_test = ['lokasi strategis dekat pusat kota']\n",
    "# review_test = ['lobi besar nyaman']\n",
    "# review_test = ['aneh banget ini']\n",
    "review_test = ['staff melayani dengan ramah']\n",
    "review_tok=tokenizer.texts_to_sequences(review_test)\n",
    "review_pad=pad_sequences(review_tok,maxlen=31,padding='post')\n",
    "prediction=model_pelayanan.predict(review_pad).flatten()\n",
    "model_pelayanan.save('aspek_pelayanan_3.h5')\n",
    "\n",
    "# print(\"prediction: \", prediction.numpy())\n",
    "print(\"predicted_labels: \",prediction)\n",
    "print(\"review_pad :\", review_pad)"
   ]
  },
  {
   "cell_type": "code",
   "execution_count": 398,
   "id": "be559046-a772-4a91-9838-701ef6cdf89c",
   "metadata": {},
   "outputs": [],
   "source": []
  },
  {
   "cell_type": "code",
   "execution_count": 291,
   "id": "16023dfb-533c-4340-9b44-5b1e72d27216",
   "metadata": {},
   "outputs": [
    {
     "name": "stdout",
     "output_type": "stream",
     "text": [
      "[[ 4 68 24  5  0  0  0  0  0  0  0  0  0  0  0  0  0  0  0  0  0  0  0  0\n",
      "   0  0  0  0  0  0  0]]\n",
      "[1]\n"
     ]
    }
   ],
   "source": [
    "# Iterate over the models and make predictions\n",
    "# pelayanan tamu hotel baik dan ramah\n",
    "# test_data = ['harga kamar mahal banget menguras kantong']\n",
    "# test_data = ['staff cepat tanggap dan ramah pada tamu']\n",
    "# test_data = ['menu makanan dan snack resto enak semua']\n",
    "# test_data = ['makanan dan minuman enak semua']\n",
    "test_data = ['hotel bagus sesuai harga']\n",
    "# test_data_tok =tokenizer.fit_on_texts(test_data)\n",
    "test_data_tok=tokenizer.texts_to_sequences(test_data)\n",
    "test_data_pad=pad_sequences(test_data_tok,maxlen=31,padding='post')\n",
    "\n",
    "print(test_data_pad)\n",
    "\n",
    "models = ['aspek_harga.h5']\n",
    "predictions = []\n",
    "prediction_label = []\n",
    "threshold = 0.5\n",
    "\n",
    "for model_filename in models:\n",
    "    model = tf.keras.models.load_model(model_filename)\n",
    "    model_predictions = model.predict(test_data_pad).flatten()\n",
    "    model_predictions = tf.where(model_predictions < threshold, 0, 1)\n",
    "    predictions.append(model_predictions.numpy())\n",
    "\n",
    "for result in predictions:\n",
    "    prediction_label.append(result[0])\n",
    "\n",
    "print(prediction_label)"
   ]
  },
  {
   "cell_type": "code",
   "execution_count": 453,
   "id": "a0167578-6e00-4e80-a269-5ea40dbf1519",
   "metadata": {},
   "outputs": [
    {
     "data": {
      "text/html": [
       "<div>\n",
       "<style scoped>\n",
       "    .dataframe tbody tr th:only-of-type {\n",
       "        vertical-align: middle;\n",
       "    }\n",
       "\n",
       "    .dataframe tbody tr th {\n",
       "        vertical-align: top;\n",
       "    }\n",
       "\n",
       "    .dataframe thead th {\n",
       "        text-align: right;\n",
       "    }\n",
       "</style>\n",
       "<table border=\"1\" class=\"dataframe\">\n",
       "  <thead>\n",
       "    <tr style=\"text-align: right;\">\n",
       "      <th></th>\n",
       "      <th>text</th>\n",
       "    </tr>\n",
       "  </thead>\n",
       "  <tbody>\n",
       "    <tr>\n",
       "      <th>0</th>\n",
       "      <td>lokasi hotel strategis berada di pusat kota da...</td>\n",
       "    </tr>\n",
       "    <tr>\n",
       "      <th>1</th>\n",
       "      <td>hotel memiliki lokasi yang sempurna, hanya beb...</td>\n",
       "    </tr>\n",
       "    <tr>\n",
       "      <th>2</th>\n",
       "      <td>lokasi hotel ini sangat nyaman, terletak di de...</td>\n",
       "    </tr>\n",
       "    <tr>\n",
       "      <th>3</th>\n",
       "      <td>hotel ini terletak di lingkungan yang tenang d...</td>\n",
       "    </tr>\n",
       "    <tr>\n",
       "      <th>4</th>\n",
       "      <td>lokasi hotel ini sangat cocok untuk wisata kul...</td>\n",
       "    </tr>\n",
       "    <tr>\n",
       "      <th>5</th>\n",
       "      <td>hotel ini memiliki akses mudah ke pusat perbel...</td>\n",
       "    </tr>\n",
       "    <tr>\n",
       "      <th>6</th>\n",
       "      <td>lokasi hotel ini dekat dengan tempat-tempat hi...</td>\n",
       "    </tr>\n",
       "    <tr>\n",
       "      <th>7</th>\n",
       "      <td>hotel ini terletak di tengah-tengah kawasan bi...</td>\n",
       "    </tr>\n",
       "    <tr>\n",
       "      <th>8</th>\n",
       "      <td>lokasi hotel ini sangat dekat dengan tempat-te...</td>\n",
       "    </tr>\n",
       "    <tr>\n",
       "      <th>9</th>\n",
       "      <td>hotel ini memiliki lokasi yang strategis, deng...</td>\n",
       "    </tr>\n",
       "    <tr>\n",
       "      <th>10</th>\n",
       "      <td>staff tidak kurang tanggap melayani pengunjung</td>\n",
       "    </tr>\n",
       "    <tr>\n",
       "      <th>11</th>\n",
       "      <td>kamar terawat dengan baik dan memiliki dekoras...</td>\n",
       "    </tr>\n",
       "    <tr>\n",
       "      <th>12</th>\n",
       "      <td>hotel bagus kamar mewah</td>\n",
       "    </tr>\n",
       "    <tr>\n",
       "      <th>13</th>\n",
       "      <td>kamar deluxe sangat luas dan nyaman</td>\n",
       "    </tr>\n",
       "    <tr>\n",
       "      <th>14</th>\n",
       "      <td>hotel ini menawarkan harga yang sangat terjang...</td>\n",
       "    </tr>\n",
       "  </tbody>\n",
       "</table>\n",
       "</div>"
      ],
      "text/plain": [
       "                                                 text\n",
       "0   lokasi hotel strategis berada di pusat kota da...\n",
       "1   hotel memiliki lokasi yang sempurna, hanya beb...\n",
       "2   lokasi hotel ini sangat nyaman, terletak di de...\n",
       "3   hotel ini terletak di lingkungan yang tenang d...\n",
       "4   lokasi hotel ini sangat cocok untuk wisata kul...\n",
       "5   hotel ini memiliki akses mudah ke pusat perbel...\n",
       "6   lokasi hotel ini dekat dengan tempat-tempat hi...\n",
       "7   hotel ini terletak di tengah-tengah kawasan bi...\n",
       "8   lokasi hotel ini sangat dekat dengan tempat-te...\n",
       "9   hotel ini memiliki lokasi yang strategis, deng...\n",
       "10     staff tidak kurang tanggap melayani pengunjung\n",
       "11  kamar terawat dengan baik dan memiliki dekoras...\n",
       "12                            hotel bagus kamar mewah\n",
       "13                kamar deluxe sangat luas dan nyaman\n",
       "14  hotel ini menawarkan harga yang sangat terjang..."
      ]
     },
     "execution_count": 453,
     "metadata": {},
     "output_type": "execute_result"
    }
   ],
   "source": [
    "test_list_single_lokasi = ['lokasi hotel strategis berada di pusat kota dan dekat dengan tempat-tempat wisata terkenal', \n",
    "                    'hotel memiliki lokasi yang sempurna, hanya beberapa langkah dari tepi pantai kuta',\n",
    "                    'lokasi hotel ini sangat nyaman, terletak di dekat stasiun kereta api dan terminal bus',\n",
    "                    'hotel ini terletak di lingkungan yang tenang dan damai, jauh dari keramaian kota',\n",
    "                    'lokasi hotel ini sangat cocok untuk wisata kuliner, terdapat banyak restoran dan kafe terkenal di sekitarnya',\n",
    "                    'hotel ini memiliki akses mudah ke pusat perbelanjaan terkenal, sehingga saya dapat dengan mudah berbelanja dan mengeksplorasi area sekitarnya',\n",
    "                    'lokasi hotel ini dekat dengan tempat-tempat hiburan malam yang populer, memberikan kemudahan untuk bersenang-senang dan menikmati kehidupan malam',\n",
    "                    'hotel ini terletak di tengah-tengah kawasan bisnis yang ramai, sangat ideal bagi para pebisnis yang ingin memiliki akses yang mudah ke kantor dan pertemuan bisnis',\n",
    "                    'lokasi hotel ini sangat dekat dengan tempat-tempat bersejarah dan objek wisata terkenal',\n",
    "                    'hotel ini memiliki lokasi yang strategis, dengan akses mudah ke bandara dan stasiun kereta api',\n",
    "                    'staff tidak kurang tanggap melayani pengunjung',\n",
    "                    'kamar terawat dengan baik dan memiliki dekorasi yang menawan',\n",
    "                    'hotel bagus kamar mewah',\n",
    "                    'kamar deluxe sangat luas dan nyaman',\n",
    "                    'hotel ini menawarkan harga yang sangat terjangkau dibandingkan dengan hotel sejenis di sekitarnya',\n",
    "                   ]\n",
    "\n",
    "data_validasi = pd.DataFrame({'text': test_list_single_lokasi})\n",
    "data_validasi.head(16)"
   ]
  },
  {
   "cell_type": "code",
   "execution_count": 460,
   "id": "cbf6fe97-0ac4-450f-997e-5c9639af7788",
   "metadata": {},
   "outputs": [
    {
     "name": "stdout",
     "output_type": "stream",
     "text": [
      "[[1]\n",
      " [1]\n",
      " [1]\n",
      " [1]\n",
      " [1]\n",
      " [0]\n",
      " [1]\n",
      " [1]\n",
      " [1]\n",
      " [1]\n",
      " [0]\n",
      " [1]\n",
      " [0]\n",
      " [1]\n",
      " [1]]\n",
      "                                                 text\n",
      "0   lokasi hotel strategis berada di pusat kota da...\n",
      "1   hotel memiliki lokasi yang sempurna, hanya beb...\n",
      "2   lokasi hotel ini sangat nyaman, terletak di de...\n",
      "3   hotel ini terletak di lingkungan yang tenang d...\n",
      "4   lokasi hotel ini sangat cocok untuk wisata kul...\n",
      "5   hotel ini memiliki akses mudah ke pusat perbel...\n",
      "6   lokasi hotel ini dekat dengan tempat-tempat hi...\n",
      "7   hotel ini terletak di tengah-tengah kawasan bi...\n",
      "8   lokasi hotel ini sangat dekat dengan tempat-te...\n",
      "9   hotel ini memiliki lokasi yang strategis, deng...\n",
      "10     staff tidak kurang tanggap melayani pengunjung\n",
      "11  kamar terawat dengan baik dan memiliki dekoras...\n",
      "12                            hotel bagus kamar mewah\n",
      "13                kamar deluxe sangat luas dan nyaman\n",
      "14  hotel ini menawarkan harga yang sangat terjang...\n"
     ]
    }
   ],
   "source": [
    "tokenizer.fit_on_texts(data_validasi['text'])\n",
    "X_validasi=tokenizer.texts_to_sequences(data_validasi['text'])\n",
    "X_validasi=pad_sequences(X_validasi, maxlen=31, padding='post')\n",
    "\n",
    "model_filenames = ['aspek_lokasi.h5']  # List of models\n",
    "models = []\n",
    "for filename in model_filenames:\n",
    "    model = load_model(filename)\n",
    "    models.append(model)\n",
    "\n",
    "\n",
    "# Lakukan prediksi pada seluruh data test menggunakan setiap model\n",
    "predictions = np.zeros((X_validasi.shape[0], len(models)))\n",
    "\n",
    "for i, model in enumerate(models):\n",
    "    preds = model.predict(X_validasi)\n",
    "    preds_binary = np.where(preds > 0.5, 1, 0)\n",
    "    for j, pred in enumerate(preds_binary):\n",
    "        predictions[j][i] = pred[0]\n",
    "        \n",
    "prediction_aspect_result = predictions.astype(int)\n",
    "        \n",
    "# predictions.dtype\n",
    "print(prediction_aspect_result)\n",
    "print(data_validasi)"
   ]
  },
  {
   "cell_type": "code",
   "execution_count": 461,
   "id": "2d96e263-73c5-44b6-b6aa-663aa8b0da54",
   "metadata": {},
   "outputs": [
    {
     "name": "stdout",
     "output_type": "stream",
     "text": [
      "Accuracy lokasi : 0.7333333333333333\n",
      "F1_score lokasi 0.8181818181818182\n"
     ]
    }
   ],
   "source": [
    "actual_aspek = [[1],[1],[1],[1],[1],[1],[1],[1],[1],[1],[0],[0],[0],[0],[0]]\n",
    "\n",
    "y_pred = np.array(prediction_aspect_result)\n",
    "y_true = np.array(actual_aspek)\n",
    "\n",
    "\n",
    "Accuracy = metrics.accuracy_score(y_true, y_pred)\n",
    "F1_score = metrics.f1_score(y_true, y_pred)\n",
    "print(\"Accuracy lokasi :\", Accuracy)\n",
    "print(\"F1_score lokasi\" ,F1_score)"
   ]
  },
  {
   "cell_type": "code",
   "execution_count": 237,
   "id": "e6613292-4677-486e-b456-ce21b1014c35",
   "metadata": {},
   "outputs": [
    {
     "name": "stdout",
     "output_type": "stream",
     "text": [
      "[[  46   44   75   29   55    0    0    0    0    0    0    0    0    0\n",
      "     0    0    0    0    0    0    0    0    0    0    0    0    0    0\n",
      "     0    0    0]\n",
      " [ 140    4   36 1188    0    0    0    0    0    0    0    0    0    0\n",
      "     0    0    0    0    0    0    0    0    0    0    0    0    0    0\n",
      "     0    0    0]\n",
      " [  17  142   21    0    0    0    0    0    0    0    0    0    0    0\n",
      "     0    0    0    0    0    0    0    0    0    0    0    0    0    0\n",
      "     0    0    0]\n",
      " [  17  637    0    0    0    0    0    0    0    0    0    0    0    0\n",
      "     0    0    0    0    0    0    0    0    0    0    0    0    0    0\n",
      "     0    0    0]\n",
      " [   9 1297   47    0    0    0    0    0    0    0    0    0    0    0\n",
      "     0    0    0    0    0    0    0    0    0    0    0    0    0    0\n",
      "     0    0    0]\n",
      " [   9   73    0    0    0    0    0    0    0    0    0    0    0    0\n",
      "     0    0    0    0    0    0    0    0    0    0    0    0    0    0\n",
      "     0    0    0]\n",
      " [  24    5   44    0    0    0    0    0    0    0    0    0    0    0\n",
      "     0    0    0    0    0    0    0    0    0    0    0    0    0    0\n",
      "     0    0    0]\n",
      " [   5  193    6  162   13   13    0    0    0    0    0    0    0    0\n",
      "     0    0    0    0    0    0    0    0    0    0    0    0    0    0\n",
      "     0    0    0]\n",
      " [   7   83   18   96   45    0    0    0    0    0    0    0    0    0\n",
      "     0    0    0    0    0    0    0    0    0    0    0    0    0    0\n",
      "     0    0    0]\n",
      " [ 365    0    0    0    0    0    0    0    0    0    0    0    0    0\n",
      "     0    0    0    0    0    0    0    0    0    0    0    0    0    0\n",
      "     0    0    0]\n",
      " [   3  327   93    0    0    0    0    0    0    0    0    0    0    0\n",
      "     0    0    0    0    0    0    0    0    0    0    0    0    0    0\n",
      "     0    0    0]\n",
      " [   3   23   10    0    0    0    0    0    0    0    0    0    0    0\n",
      "     0    0    0    0    0    0    0    0    0    0    0    0    0    0\n",
      "     0    0    0]]\n"
     ]
    }
   ],
   "source": [
    "# tokenizer.fit_on_texts(data_set_2['content_cleaned'])\n",
    "X_validasi=tokenizer.texts_to_sequences(data_set_2['text'])\n",
    "X_validasi=pad_sequences(X_validasi, maxlen=31, padding='post')\n",
    "\n",
    "print(X_validasi)"
   ]
  },
  {
   "cell_type": "code",
   "execution_count": 275,
   "id": "a6a44003-1022-4722-adf9-7c32e3059288",
   "metadata": {},
   "outputs": [
    {
     "name": "stdout",
     "output_type": "stream",
     "text": [
      "[[0]\n",
      " [0]\n",
      " [0]\n",
      " [0]\n",
      " [0]\n",
      " [0]\n",
      " [1]\n",
      " [1]\n",
      " [1]\n",
      " [0]\n",
      " [1]\n",
      " [0]]\n",
      "0         fasilitas lengkap seperti bintang lima\n",
      "1                      lobi hotel luas dan megah\n",
      "2                          pelayanan sopan ramah\n",
      "3                              pelayanan cekatan\n",
      "4                             harga sangat murah\n",
      "5                           harga teralalu mahal\n",
      "6                           menu makanan lengkap\n",
      "7     makanan dan minuman sarapan pagi enak enak\n",
      "8              lokasi strategis dekat pusat kota\n",
      "9                          suasan sejuk pedasaan\n",
      "10                             kamar agak sempit\n",
      "11                       kamar bersih dan nyaman\n",
      "Name: text, dtype: object\n"
     ]
    }
   ],
   "source": [
    "from keras.models import load_model\n",
    "\n",
    "# actual_aspek=[\n",
    "#     [0, 0, 0, 0],\n",
    "#     [1, 0, 0, 1],\n",
    "#     [1, 0, 1, 0],\n",
    "#     [1, 0, 1, 0],\n",
    "#     [1, 0, 0, 0],\n",
    "#     [1, 0, 0, 0],\n",
    "#     [1, 1, 0, 0],\n",
    "#     [0, 1, 0, 0],\n",
    "#     [0, 1, 0, 0],\n",
    "#     [0, 0, 0, 0],\n",
    "#     [0, 1, 0, 0],\n",
    "#     [0, 0, 0, 1],\n",
    "#     [1, 1, 0, 1],\n",
    "#     [1, 1, 1, 1],\n",
    "#     [1, 0, 1, 1],\n",
    "# ]\n",
    "\n",
    "# model_filenames = ['aspek_harga.h5', 'aspek_makanan.h5', 'aspek_kamar.h5', 'aspek_pelayanan.h5']  # List of models\n",
    "model_filenames = ['aspek_pelayanan.h5']  # List of models\n",
    "models = []\n",
    "for filename in model_filenames:\n",
    "    model = load_model(filename)\n",
    "    models.append(model)\n",
    "\n",
    "\n",
    "# Lakukan prediksi pada seluruh data test menggunakan setiap model\n",
    "predictions = np.zeros((X_validasi.shape[0], len(models)))\n",
    "\n",
    "for i, model in enumerate(models):\n",
    "    preds = model.predict(X_validasi)\n",
    "#     print(preds)\n",
    "    preds_binary = np.where(preds > 0.5, 1, 0)\n",
    "    for j, pred in enumerate(preds_binary):\n",
    "        predictions[j][i] = pred[0]\n",
    "        \n",
    "prediction_aspect_result = predictions.astype(int)\n",
    "        \n",
    "# predictions.dtype\n",
    "print(prediction_aspect_result)\n",
    "print(data_set_2['text'])"
   ]
  },
  {
   "cell_type": "code",
   "execution_count": 276,
   "id": "e530d964-aa4d-43ab-a8e2-31345bf17872",
   "metadata": {},
   "outputs": [],
   "source": [
    "actual_aspek = [[1],\n",
    " [1],\n",
    " [0],\n",
    " [0],\n",
    " [0],\n",
    " [0],\n",
    " [0],\n",
    " [0],\n",
    " [0],\n",
    " [0],\n",
    " [0],\n",
    " [0]]\n",
    "\n",
    "y_pred = np.array(prediction_aspect_result)\n",
    "y_true = np.array(actual_aspek)\n",
    "\n",
    "# # Menghitung Top-1 Accuracy\n",
    "# y_pred_top1 = np.argmax(y_pred, axis=1)\n",
    "# top1_accuracy = np.mean(np.equal(y_pred_top1, np.argmax(y_true, axis=1)))\n",
    "\n",
    "# # Menghitung Top-3 Accuracy\n",
    "# y_pred_top3 = np.argsort(y_pred, axis=1)[:, -3:]\n",
    "# top3_accuracy = np.mean(np.any(y_pred_top3 == np.argmax(y_true, axis=1)[:, np.newaxis], axis=1))\n",
    "\n",
    "# print(\"aspect model list to validate:\", model_filenames)\n",
    "# print(\"actual result:\", y_true)\n",
    "# print(\"predicted result:\", y_pred)\n",
    "# print(\"Top-1 Accuracy:\", top1_accuracy)\n",
    "# print(\"Top-3 Accuracy:\", top3_accuracy)"
   ]
  },
  {
   "cell_type": "code",
   "execution_count": 277,
   "id": "f0444c17-6ef9-4908-a4a9-d00f96566bbe",
   "metadata": {},
   "outputs": [
    {
     "name": "stdout",
     "output_type": "stream",
     "text": [
      "Accuracy fasilitas : 0.5\n",
      "F1_score fasilitas 0.0\n"
     ]
    }
   ],
   "source": [
    "Accuracy = metrics.accuracy_score(y_true, y_pred)\n",
    "F1_score = metrics.f1_score(y_true, y_pred)\n",
    "print(\"Accuracy fasilitas :\", Accuracy)\n",
    "print(\"F1_score fasilitas\" ,F1_score)"
   ]
  },
  {
   "cell_type": "code",
   "execution_count": 214,
   "id": "08fb6106-5d9f-4153-b1c4-c0c292eebe3a",
   "metadata": {},
   "outputs": [
    {
     "name": "stdout",
     "output_type": "stream",
     "text": [
      "Accuracy harga : 0.9166666666666666\n"
     ]
    }
   ],
   "source": []
  },
  {
   "cell_type": "code",
   "execution_count": 3,
   "id": "91c3b4b7-171e-453b-a585-4e577de26eae",
   "metadata": {},
   "outputs": [
    {
     "name": "stdout",
     "output_type": "stream",
     "text": [
      "[[0. 0. 0. 0. 0. 0.]\n",
      " [0. 0. 0. 0. 0. 0.]\n",
      " [0. 0. 0. 0. 0. 0.]\n",
      " [0. 0. 0. 0. 0. 0.]\n",
      " [0. 0. 0. 0. 0. 0.]\n",
      " [0. 0. 0. 0. 0. 0.]]\n",
      "[1 0 0 1 1 0 1 0 1 0 1 0]\n",
      "[1 0 0 1 1 0 0 1 1 0 1 0]\n",
      "[1 0 0 1 0 1 1 0 1 0 0 1]\n",
      "WARNING:tensorflow:5 out of the last 5 calls to <function Model.make_predict_function.<locals>.predict_function at 0x12dc8d0d0> triggered tf.function retracing. Tracing is expensive and the excessive number of tracings could be due to (1) creating @tf.function repeatedly in a loop, (2) passing tensors with different shapes, (3) passing Python objects instead of tensors. For (1), please define your @tf.function outside of the loop. For (2), @tf.function has experimental_relax_shapes=True option that relaxes argument shapes that can avoid unnecessary retracing. For (3), please refer to https://www.tensorflow.org/guide/function#controlling_retracing and https://www.tensorflow.org/api_docs/python/tf/function for  more details.\n",
      "[1 0 0 1 0 1 1 0 1 0 1 0]\n",
      "WARNING:tensorflow:6 out of the last 6 calls to <function Model.make_predict_function.<locals>.predict_function at 0x12d4bd430> triggered tf.function retracing. Tracing is expensive and the excessive number of tracings could be due to (1) creating @tf.function repeatedly in a loop, (2) passing tensors with different shapes, (3) passing Python objects instead of tensors. For (1), please define your @tf.function outside of the loop. For (2), @tf.function has experimental_relax_shapes=True option that relaxes argument shapes that can avoid unnecessary retracing. For (3), please refer to https://www.tensorflow.org/guide/function#controlling_retracing and https://www.tensorflow.org/api_docs/python/tf/function for  more details.\n",
      "[1 0 0 1 0 1 0 1 1 0 1 0]\n",
      "[1 0 0 1 0 1 1 0 1 0 0 1]\n",
      "['pelayanan semua ramah dan sopan', 'yang tidak disukai kamar tidak_kedap suara', 'makanan enak semua', 'fasilitas hotel yang sangat lengkap seperti bintang lima', 'lokasi hotel strategis dekat banyak rumah makan', 'Pelayanan yang diberikan oleh staf baik.']\n"
     ]
    }
   ],
   "source": [
    "import pandas as pd\n",
    "import numpy as np\n",
    "from keras.preprocessing.text import Tokenizer\n",
    "from keras.preprocessing.sequence import pad_sequences\n",
    "from keras.models import load_model\n",
    "\n",
    "# Baca dataset dari file csv\n",
    "# test_2 = pd.read_csv('test_2.csv')\n",
    "test_list = ['pelayanan semua ramah dan sopan',\n",
    "             'yang tidak disukai kamar tidak_kedap suara',\n",
    "             'makanan enak semua',\n",
    "             'fasilitas hotel yang sangat lengkap seperti bintang lima',\n",
    "             'lokasi hotel strategis dekat banyak rumah makan',\n",
    "             'Pelayanan yang diberikan oleh staf baik.']\n",
    "test_len = len(test_list)\n",
    "\n",
    "# Load model-model yang sudah disimpan\n",
    "model_filenames = ['aspek_pelayanan.h5', 'aspek_kamar.h5', 'aspek_makanan.h5', 'aspek_harga.h5', 'aspek_fasilitas.h5', 'aspek_lokasi.h5']  # List of models\n",
    "models = []\n",
    "for filename in model_filenames:\n",
    "    model = load_model(filename)\n",
    "    models.append(model)\n",
    "\n",
    "# Proses data uji\n",
    "tokenizer = Tokenizer(num_words=1500)\n",
    "tokenizer.fit_on_texts(test_list)\n",
    "test_sequences = tokenizer.texts_to_sequences(test_list)\n",
    "test_pad = pad_sequences(test_sequences, maxlen=31, padding='post')\n",
    "\n",
    "predictions = np.zeros((test_len, len(models)))\n",
    "\n",
    "print(predictions)\n",
    "\n",
    "for i, model in enumerate(models):\n",
    "    preds = model.predict(test_pad)\n",
    "#     preds = tf.nn.softmax(preds)\n",
    "    preds_binary = np.where(preds > 0.5, 1, 0)\n",
    "#     predictions[:, i] = preds_binary.flatten()\n",
    "    print(preds_binary.flatten())\n",
    "#     predictions[:,i] = preds_binary[0].flatten()\n",
    "\n",
    "\n",
    "print(test_list)"
   ]
  },
  {
   "cell_type": "code",
   "execution_count": 325,
   "id": "aea46738-0b51-414b-8bde-33bfef2d64c2",
   "metadata": {},
   "outputs": [
    {
     "name": "stdout",
     "output_type": "stream",
     "text": [
      "          Predicted 0  Predicted 1\n",
      "Actual 0            7            1\n",
      "Actual 1            1            7\n"
     ]
    },
    {
     "data": {
      "image/png": "[encoded data removed]",
      "text/plain": [
       "<Figure size 432x288 with 2 Axes>"
      ]
     },
     "metadata": {
      "needs_background": "light"
     },
     "output_type": "display_data"
    }
   ],
   "source": [
    "from sklearn.metrics import confusion_matrix\n",
    "\n",
    "# Nilai prediksi dan actual dalam bentuk list of array\n",
    "y_pred = [[1, 0, 1, 0],\n",
    "          [0, 1, 0, 1],\n",
    "          [1, 0, 0, 1],\n",
    "          [0, 1, 1, 0]]\n",
    "y_actual = [[1, 0, 1, 1],\n",
    "            [0, 1, 0, 1],\n",
    "            [1, 0, 0, 1],\n",
    "            [0, 0, 1, 0]]\n",
    "\n",
    "# Menggabungkan semua nilai prediksi dan actual menjadi satu list\n",
    "y_pred_flat = [item for sublist in y_pred for item in sublist]\n",
    "y_actual_flat = [item for sublist in y_actual for item in sublist]\n",
    "\n",
    "# Membuat confusion matrix\n",
    "confusion_mat = confusion_matrix(y_actual_flat, y_pred_flat)\n",
    "\n",
    "confusion_df = pd.DataFrame(confusion_mat, index=['Actual 0', 'Actual 1'], columns=['Predicted 0', 'Predicted 1'])\n",
    "print(confusion_df)\n",
    "\n",
    "# Visualisasi confusion matrix\n",
    "sns.heatmap(confusion_df, annot=True, cmap='Blues')\n",
    "plt.xlabel('Predicted')\n",
    "plt.ylabel('Actual')\n",
    "plt.title('Confusion Matrix')\n",
    "plt.show()\n",
    "\n",
    "# print(confusion_mat)"
   ]
  },
  {
   "cell_type": "code",
   "execution_count": null,
   "id": "f585f9a6-e3f7-4ba0-9d5b-8e7249481e82",
   "metadata": {},
   "outputs": [],
   "source": []
  }
 ],
 "metadata": {
  "kernelspec": {
   "display_name": "Python 3",
   "language": "python",
   "name": "python3"
  },
  "language_info": {
   "codemirror_mode": {
    "name": "ipython",
    "version": 3
   },
   "file_extension": ".py",
   "mimetype": "text/x-python",
   "name": "python",
   "nbconvert_exporter": "python",
   "pygments_lexer": "ipython3",
   "version": "3.9.5"
  }
 },
 "nbformat": 4,
 "nbformat_minor": 5
}
