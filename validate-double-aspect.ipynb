{
 "cells": [
  {
   "cell_type": "code",
   "execution_count": 1,
   "id": "6a30e6fb-dba5-4dde-893a-e5d46087b360",
   "metadata": {},
   "outputs": [],
   "source": [
    "import pandas as pd\n",
    "import numpy as np\n",
    "# Libraries for Text Preprocessing\n",
    "import re\n",
    "from keras.preprocessing.text import Tokenizer\n",
    "from keras.preprocessing.sequence import pad_sequences\n",
    "# Libraries for Visualization\n",
    "import wordcloud\n",
    "import matplotlib.pyplot as plt\n",
    "import plotly.express as px\n",
    "# Libraries for Model\n",
    "from keras.models import Sequential\n",
    "from keras.layers import Conv2D, MaxPooling2D, Flatten, Dense, Embedding, LSTM, SpatialDropout1D\n",
    "from sklearn.model_selection import train_test_split\n",
    "from sklearn import metrics\n",
    "import seaborn as sns\n",
    "import neattext.functions as nfx\n",
    "from keras.models import load_model\n",
    "\n",
    "tokenizer=Tokenizer()"
   ]
  },
  {
   "cell_type": "code",
   "execution_count": 2,
   "id": "57704bff-c4d5-419f-8b9e-3aada41182ee",
   "metadata": {},
   "outputs": [
    {
     "data": {
      "text/html": [
       "<div>\n",
       "<style scoped>\n",
       "    .dataframe tbody tr th:only-of-type {\n",
       "        vertical-align: middle;\n",
       "    }\n",
       "\n",
       "    .dataframe tbody tr th {\n",
       "        vertical-align: top;\n",
       "    }\n",
       "\n",
       "    .dataframe thead th {\n",
       "        text-align: right;\n",
       "    }\n",
       "</style>\n",
       "<table border=\"1\" class=\"dataframe\">\n",
       "  <thead>\n",
       "    <tr style=\"text-align: right;\">\n",
       "      <th></th>\n",
       "      <th>no</th>\n",
       "      <th>aspek</th>\n",
       "      <th>text</th>\n",
       "      <th>makanan</th>\n",
       "      <th>fasilitas</th>\n",
       "      <th>pelayanan</th>\n",
       "      <th>kamar</th>\n",
       "      <th>harga</th>\n",
       "      <th>lokasi</th>\n",
       "    </tr>\n",
       "  </thead>\n",
       "  <tbody>\n",
       "    <tr>\n",
       "      <th>76</th>\n",
       "      <td>77</td>\n",
       "      <td>NaN</td>\n",
       "      <td>Saya sangat puas dengan pelayanan yang diberik...</td>\n",
       "      <td>0</td>\n",
       "      <td>0</td>\n",
       "      <td>3</td>\n",
       "      <td>0</td>\n",
       "      <td>5</td>\n",
       "      <td>0</td>\n",
       "    </tr>\n",
       "    <tr>\n",
       "      <th>77</th>\n",
       "      <td>78</td>\n",
       "      <td>NaN</td>\n",
       "      <td>Pelayanan yang prima dengan harga yang terjang...</td>\n",
       "      <td>0</td>\n",
       "      <td>0</td>\n",
       "      <td>3</td>\n",
       "      <td>0</td>\n",
       "      <td>5</td>\n",
       "      <td>0</td>\n",
       "    </tr>\n",
       "    <tr>\n",
       "      <th>78</th>\n",
       "      <td>79</td>\n",
       "      <td>Pelayanan - Lokasi</td>\n",
       "      <td>Pelayanan di hotel ini sangat baik, dan lokasi...</td>\n",
       "      <td>0</td>\n",
       "      <td>0</td>\n",
       "      <td>3</td>\n",
       "      <td>0</td>\n",
       "      <td>0</td>\n",
       "      <td>6</td>\n",
       "    </tr>\n",
       "    <tr>\n",
       "      <th>79</th>\n",
       "      <td>80</td>\n",
       "      <td>NaN</td>\n",
       "      <td>Staf hotel sangat ramah dan siap membantu, ser...</td>\n",
       "      <td>0</td>\n",
       "      <td>0</td>\n",
       "      <td>3</td>\n",
       "      <td>0</td>\n",
       "      <td>0</td>\n",
       "      <td>6</td>\n",
       "    </tr>\n",
       "    <tr>\n",
       "      <th>80</th>\n",
       "      <td>81</td>\n",
       "      <td>NaN</td>\n",
       "      <td>Kami sangat puas dengan pelayanan yang diberik...</td>\n",
       "      <td>0</td>\n",
       "      <td>0</td>\n",
       "      <td>3</td>\n",
       "      <td>0</td>\n",
       "      <td>0</td>\n",
       "      <td>6</td>\n",
       "    </tr>\n",
       "  </tbody>\n",
       "</table>\n",
       "</div>"
      ],
      "text/plain": [
       "    no               aspek                                               text  \\\n",
       "76  77                 NaN  Saya sangat puas dengan pelayanan yang diberik...   \n",
       "77  78                 NaN  Pelayanan yang prima dengan harga yang terjang...   \n",
       "78  79  Pelayanan - Lokasi  Pelayanan di hotel ini sangat baik, dan lokasi...   \n",
       "79  80                 NaN  Staf hotel sangat ramah dan siap membantu, ser...   \n",
       "80  81                 NaN  Kami sangat puas dengan pelayanan yang diberik...   \n",
       "\n",
       "    makanan  fasilitas  pelayanan  kamar  harga  lokasi  \n",
       "76        0          0          3      0      5       0  \n",
       "77        0          0          3      0      5       0  \n",
       "78        0          0          3      0      0       6  \n",
       "79        0          0          3      0      0       6  \n",
       "80        0          0          3      0      0       6  "
      ]
     },
     "execution_count": 2,
     "metadata": {},
     "output_type": "execute_result"
    }
   ],
   "source": [
    "data_set = pd.read_excel('./data_evaluation/validation_2_aspect.xlsx')\n",
    "data_set.tail()"
   ]
  },
  {
   "cell_type": "code",
   "execution_count": 3,
   "id": "b1dcd9d7-74d3-4aff-8088-2804bfa53e33",
   "metadata": {},
   "outputs": [],
   "source": [
    "def cleaning(text):\n",
    "    text = re.sub(r'\\n',' ',text) # Hapus \\n (enter)\n",
    "    text = nfx.remove_hashtags(text) # Hapus hashtags\n",
    "    text = nfx.remove_numbers(text) # Hapus number\n",
    "    text = text.strip() # Hapus Whitespace\n",
    "    text = re.sub('[^0-9a-zA-Z]+', ' ', text) # Hapus karakter selain alfabet dan angka\n",
    "    return text\n",
    "\n",
    "def casefolding(text):\n",
    "    return text.lower()\n",
    "\n",
    "data_set['content_cleaned'] = data_set['text'].apply(casefolding)\n",
    "data_set['content_cleaned'] = data_set['text'].apply(cleaning)"
   ]
  },
  {
   "cell_type": "code",
   "execution_count": 4,
   "id": "7168a856-9bac-4811-b8a1-f0b144339075",
   "metadata": {},
   "outputs": [
    {
     "name": "stdout",
     "output_type": "stream",
     "text": [
      "[[15  1 41 ...  0  0  0]\n",
      " [ 8  2 24 ...  0  0  0]\n",
      " [15  5  6 ... 36 64 33]\n",
      " ...\n",
      " [14  5  6 ...  0  0  0]\n",
      " [82  6  2 ...  0  0  0]\n",
      " [22  2 24 ...  0  0  0]]\n"
     ]
    }
   ],
   "source": [
    "tokenizer.fit_on_texts(data_set['content_cleaned'])\n",
    "X_validasi=tokenizer.texts_to_sequences(data_set['content_cleaned'])\n",
    "X_validasi=pad_sequences(X_validasi, maxlen=31, padding='post')\n",
    "\n",
    "print(X_validasi)"
   ]
  },
  {
   "cell_type": "code",
   "execution_count": 15,
   "id": "89f2958c-a613-44a2-8d4e-313130089d38",
   "metadata": {},
   "outputs": [],
   "source": [
    "model_filenames = ['aspek_fasilitas.h5', 'aspek_makanan.h5']  # List of models\n",
    "models = []\n",
    "for filename in model_filenames:\n",
    "    model = load_model(filename)\n",
    "    models.append(model)\n",
    "\n",
    "\n",
    "# Lakukan prediksi pada seluruh data test menggunakan setiap model\n",
    "predictions = np.zeros((X_validasi.shape[0], len(models)))\n",
    "\n",
    "for i, model in enumerate(models):\n",
    "    preds = model.predict(X_validasi)\n",
    "#     print(preds)\n",
    "    preds_binary = np.where(preds > 0.5, 1, 0)\n",
    "    for j, pred in enumerate(preds_binary):\n",
    "        predictions[j][i] = pred[0]\n",
    "        \n",
    "prediction_aspect_result = predictions.astype(int)"
   ]
  },
  {
   "cell_type": "code",
   "execution_count": 16,
   "id": "a8d8e98e-9c44-4192-89ed-8070382a1fca",
   "metadata": {},
   "outputs": [
    {
     "name": "stdout",
     "output_type": "stream",
     "text": [
      "Top-1 Accuracy: 0.5308641975308642\n"
     ]
    }
   ],
   "source": [
    "#makanan=1,fasilitas=2,pelayanan=3,kamar=4,harga=5,lokasi=6 \n",
    "new_df = data_set[['fasilitas', 'makanan']]\n",
    "actual_aspect = new_df.values.tolist()\n",
    "actual_aspect = data = [[1 if val != 0.0 else 0 for val in row] for row in actual_aspect]\n",
    "\n",
    "y_pred = np.array(prediction_aspect_result)\n",
    "y_true = np.array(actual_aspect)\n",
    "\n",
    "# Menghitung Top-1 Accuracy\n",
    "y_pred_top1 = np.argmax(y_pred, axis=1)\n",
    "top1_accuracy = np.mean(np.equal(y_pred_top1, np.argmax(y_true, axis=1)))\n",
    "\n",
    "print(\"Top-1 Accuracy:\", top1_accuracy)"
   ]
  },
  {
   "cell_type": "code",
   "execution_count": 17,
   "id": "4336b441-414d-4cf3-b5bb-d3b2ddf0f352",
   "metadata": {},
   "outputs": [
    {
     "name": "stdout",
     "output_type": "stream",
     "text": [
      "[1, 1, 1, 1, 1, 1, 1, 1, 1, 1, 1, 1, 1, 1, 1, 0, 0, 0, 0, 0, 0, 0, 0, 0, 0, 0, 0, 0, 0, 0, 0, 0, 0, 0, 0, 0, 1, 1, 1, 1, 1, 1, 0, 0, 1, 1, 1, 1, 1, 1, 1, 0, 0, 0, 0, 0, 0, 0, 0, 0, 0, 0, 0, 0, 0, 0, 0, 0, 0, 0, 0, 0, 0, 0, 0, 0, 0, 0, 0, 0, 0]\n",
      "Top-1 Accuracy: 34.57%\n"
     ]
    }
   ],
   "source": [
    "# count top-1 accuracy\n",
    "\n",
    "result = []  # Variabel untuk menyimpan hasil akhir\n",
    "\n",
    "for i in range(len(prediction_aspect_result)):\n",
    "    if prediction_aspect_result[i][1] == actual_aspect[i][1]:\n",
    "        result.append(1)\n",
    "    else:\n",
    "        result.append(0)\n",
    "\n",
    "print(result)\n",
    "\n",
    "# Step 1: Hitung berapa kali nilai 1 muncul pada indeks pertama\n",
    "count_ones = result.count(1)\n",
    "\n",
    "# Step 2: Bagi hasil dari langkah pertama dengan total jumlah data\n",
    "total_data = len(result)\n",
    "top1_accuracy = count_ones / total_data\n",
    "\n",
    "# Step 3: Kalikan dengan 100 untuk mendapatkan persentase top-1 accuracy\n",
    "top1_accuracy_percentage = top1_accuracy * 100\n",
    "\n",
    "print(\"Top-1 Accuracy: {:.2f}%\".format(top1_accuracy_percentage))\n",
    "\n"
   ]
  },
  {
   "cell_type": "code",
   "execution_count": null,
   "id": "bdf94469",
   "metadata": {},
   "outputs": [],
   "source": []
  }
 ],
 "metadata": {
  "kernelspec": {
   "display_name": "Python 3",
   "language": "python",
   "name": "python3"
  },
  "language_info": {
   "codemirror_mode": {
    "name": "ipython",
    "version": 3
   },
   "file_extension": ".py",
   "mimetype": "text/x-python",
   "name": "python",
   "nbconvert_exporter": "python",
   "pygments_lexer": "ipython3",
   "version": "3.9.5"
  }
 },
 "nbformat": 4,
 "nbformat_minor": 5
}
