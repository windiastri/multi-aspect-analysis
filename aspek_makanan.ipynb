{
 "cells": [
  {
   "cell_type": "code",
   "execution_count": 12,
   "id": "ac855889-005e-428a-be65-d8ab11550b43",
   "metadata": {},
   "outputs": [
    {
     "data": {
      "text/html": [
       "<div>\n",
       "<style scoped>\n",
       "    .dataframe tbody tr th:only-of-type {\n",
       "        vertical-align: middle;\n",
       "    }\n",
       "\n",
       "    .dataframe tbody tr th {\n",
       "        vertical-align: top;\n",
       "    }\n",
       "\n",
       "    .dataframe thead th {\n",
       "        text-align: right;\n",
       "    }\n",
       "</style>\n",
       "<table border=\"1\" class=\"dataframe\">\n",
       "  <thead>\n",
       "    <tr style=\"text-align: right;\">\n",
       "      <th></th>\n",
       "      <th>clean text</th>\n",
       "      <th>aspect</th>\n",
       "      <th>sentiment</th>\n",
       "      <th>clean</th>\n",
       "    </tr>\n",
       "  </thead>\n",
       "  <tbody>\n",
       "    <tr>\n",
       "      <th>1187</th>\n",
       "      <td>kondisi menyedihkan</td>\n",
       "      <td>lainnya</td>\n",
       "      <td>negative</td>\n",
       "      <td>kondisi menyedihkan</td>\n",
       "    </tr>\n",
       "    <tr>\n",
       "      <th>1188</th>\n",
       "      <td>anak kelaperan tunggu makanan datang</td>\n",
       "      <td>lainnya</td>\n",
       "      <td>negative</td>\n",
       "      <td>anak kelaperan tunggu makanan datang</td>\n",
       "    </tr>\n",
       "    <tr>\n",
       "      <th>1189</th>\n",
       "      <td>tidak_sempat menikmati sarapan</td>\n",
       "      <td>lainnya</td>\n",
       "      <td>negative</td>\n",
       "      <td>tidak sempat menikmati sarapan</td>\n",
       "    </tr>\n",
       "    <tr>\n",
       "      <th>1190</th>\n",
       "      <td>kecewa helm motor dicuri</td>\n",
       "      <td>lainnya</td>\n",
       "      <td>negative</td>\n",
       "      <td>kecewa helm motor dicuri</td>\n",
       "    </tr>\n",
       "    <tr>\n",
       "      <th>1191</th>\n",
       "      <td>tidak_ada kompensasi ganti rugi pihak hotel</td>\n",
       "      <td>lainnya</td>\n",
       "      <td>negative</td>\n",
       "      <td>tidak ada kompensasi ganti rugi pihak hotel</td>\n",
       "    </tr>\n",
       "  </tbody>\n",
       "</table>\n",
       "</div>"
      ],
      "text/plain": [
       "                                       clean text   aspect sentiment  \\\n",
       "1187                          kondisi menyedihkan  lainnya  negative   \n",
       "1188         anak kelaperan tunggu makanan datang  lainnya  negative   \n",
       "1189               tidak_sempat menikmati sarapan  lainnya  negative   \n",
       "1190                     kecewa helm motor dicuri  lainnya  negative   \n",
       "1191  tidak_ada kompensasi ganti rugi pihak hotel  lainnya  negative   \n",
       "\n",
       "                                            clean  \n",
       "1187                          kondisi menyedihkan  \n",
       "1188         anak kelaperan tunggu makanan datang  \n",
       "1189               tidak sempat menikmati sarapan  \n",
       "1190                     kecewa helm motor dicuri  \n",
       "1191  tidak ada kompensasi ganti rugi pihak hotel  "
      ]
     },
     "execution_count": 12,
     "metadata": {},
     "output_type": "execute_result"
    }
   ],
   "source": [
    "import pandas as pd\n",
    "import numpy as np\n",
    "# Libraries for Text Preprocessing\n",
    "import re\n",
    "from keras.preprocessing.text import Tokenizer\n",
    "from keras.preprocessing.sequence import pad_sequences\n",
    "# Libraries for Visualization\n",
    "import wordcloud\n",
    "import matplotlib.pyplot as plt\n",
    "import plotly.express as px\n",
    "# Libraries for Model\n",
    "from keras.models import Sequential\n",
    "from keras.layers import Conv2D, MaxPooling2D, Flatten, Dense, Embedding, LSTM, SpatialDropout1D\n",
    "from sklearn.model_selection import train_test_split\n",
    "from sklearn import metrics\n",
    "import tensorflow as tf\n",
    "\n",
    "data_set = pd.read_excel('aspek makanan.xlsx')\n",
    "def remove_underscored(text):\n",
    "    return text.translate(str.maketrans('_', ' '))\n",
    "\n",
    "data_set[\"clean\"] = data_set[\"clean text\"].apply(lambda text: remove_underscored(text))\n",
    "data_set.tail()"
   ]
  },
  {
   "cell_type": "code",
   "execution_count": 13,
   "id": "7e377fb1-778d-4699-84be-b35a6857103e",
   "metadata": {},
   "outputs": [
    {
     "name": "stdout",
     "output_type": "stream",
     "text": [
      "0                            resto baik ada rooftop\n",
      "1              ada kafe atas pemandangan kota jogja\n",
      "2                              resto rooftop nyaman\n",
      "3                          rooftop resto nuansa oke\n",
      "4                               rooftop kafe nyaman\n",
      "                           ...                     \n",
      "1187                            kondisi menyedihkan\n",
      "1188           anak kelaperan tunggu makanan datang\n",
      "1189                 tidak sempat menikmati sarapan\n",
      "1190                       kecewa helm motor dicuri\n",
      "1191    tidak ada kompensasi ganti rugi pihak hotel\n",
      "Name: clean, Length: 1192, dtype: object\n",
      "[[ 12  18   5 ...   0   0   0]\n",
      " [  5 338 145 ...   0   0   0]\n",
      " [ 12 127  15 ...   0   0   0]\n",
      " ...\n",
      " [  3 519 168 ...   0   0   0]\n",
      " [ 52 513 335 ...   0   0   0]\n",
      " [  3   5 517 ...   0   0   0]]\n",
      "(1192, 31)\n"
     ]
    },
    {
     "data": {
      "text/plain": [
       "1192"
      ]
     },
     "execution_count": 13,
     "metadata": {},
     "output_type": "execute_result"
    }
   ],
   "source": [
    "tokenizer=Tokenizer(num_words=1500)\n",
    "tokenizer.fit_on_texts(data_set[\"clean\"].values)\n",
    "X=tokenizer.texts_to_sequences(data_set[\"clean\"].values)\n",
    "X=pad_sequences(X, maxlen=31, padding='post')\n",
    "print(data_set[\"clean\"])\n",
    "print(X)\n",
    "print(X.shape)\n",
    "len(X)"
   ]
  },
  {
   "cell_type": "code",
   "execution_count": 14,
   "id": "9f3e3d95-c167-45e2-a04d-62337a64d473",
   "metadata": {},
   "outputs": [
    {
     "name": "stdout",
     "output_type": "stream",
     "text": [
      "X Train:  (953, 31)\n",
      "Y Train:  (953, 2)\n",
      "X Test:  (239, 31)\n",
      "Y Test:  (239, 2)\n",
      "      aspect_makanan  aspect_lainnya\n",
      "0                  1               0\n",
      "1                  1               0\n",
      "2                  1               0\n",
      "3                  1               0\n",
      "4                  1               0\n",
      "...              ...             ...\n",
      "1187               0               1\n",
      "1188               0               1\n",
      "1189               0               1\n",
      "1190               0               1\n",
      "1191               0               1\n",
      "\n",
      "[1192 rows x 2 columns]\n"
     ]
    }
   ],
   "source": [
    "y=pd.get_dummies(data_set[[\"aspect\"]])\n",
    "\n",
    "# switch values for data aspect makanan\n",
    "new_column_order = ['aspect_makanan', 'aspect_lainnya']\n",
    "y = y[new_column_order]\n",
    "\n",
    "# Split the data into training and testing sets\n",
    "x_train,x_test,y_train,y_test = train_test_split(X, y, test_size=0.2, random_state=42)\n",
    "print(\"X Train: \",x_train.shape)\n",
    "print(\"Y Train: \",y_train.shape)\n",
    "print(\"X Test: \",x_test.shape)\n",
    "print(\"Y Test: \",y_test.shape)\n",
    "print(y)"
   ]
  },
  {
   "cell_type": "code",
   "execution_count": 31,
   "id": "0716b4cd-b89e-4f55-b644-024c4b9316e6",
   "metadata": {},
   "outputs": [
    {
     "name": "stdout",
     "output_type": "stream",
     "text": [
      "Epoch 1/10\n",
      "30/30 [==============================] - 4s 28ms/step - loss: 0.6557 - acc: 0.6674 - val_loss: 0.6306 - val_acc: 0.6820\n",
      "Epoch 2/10\n",
      "30/30 [==============================] - 1s 22ms/step - loss: 0.6219 - acc: 0.6905 - val_loss: 0.6253 - val_acc: 0.6820\n",
      "Epoch 3/10\n",
      "30/30 [==============================] - 1s 22ms/step - loss: 0.6223 - acc: 0.6905 - val_loss: 0.6273 - val_acc: 0.6820\n",
      "Epoch 4/10\n",
      "30/30 [==============================] - 1s 22ms/step - loss: 0.6205 - acc: 0.6905 - val_loss: 0.6249 - val_acc: 0.6820\n",
      "Epoch 5/10\n",
      "30/30 [==============================] - 1s 22ms/step - loss: 0.6160 - acc: 0.6905 - val_loss: 0.6190 - val_acc: 0.6820\n",
      "Epoch 6/10\n",
      "30/30 [==============================] - 1s 22ms/step - loss: 0.5106 - acc: 0.7566 - val_loss: 0.2736 - val_acc: 0.9372\n",
      "Epoch 7/10\n",
      "30/30 [==============================] - 1s 23ms/step - loss: 0.3450 - acc: 0.8846 - val_loss: 0.2070 - val_acc: 0.9540\n",
      "Epoch 8/10\n",
      "30/30 [==============================] - 1s 23ms/step - loss: 0.4237 - acc: 0.8510 - val_loss: 0.4401 - val_acc: 0.8285\n",
      "Epoch 9/10\n",
      "30/30 [==============================] - 1s 24ms/step - loss: 0.4281 - acc: 0.8405 - val_loss: 0.4357 - val_acc: 0.8285\n",
      "Epoch 10/10\n",
      "30/30 [==============================] - 1s 24ms/step - loss: 0.3714 - acc: 0.8688 - val_loss: 0.3133 - val_acc: 0.8996\n"
     ]
    }
   ],
   "source": [
    "model = Sequential()\n",
    "model.add(Embedding(1500, 32,input_length = 31))\n",
    "model.add(SpatialDropout1D(0.8))\n",
    "model.add(LSTM(64, dropout=0.4, recurrent_dropout=0.2))\n",
    "model.add(Dense(2,activation='softmax'))\n",
    "model.compile(optimizer='adam', loss='binary_crossentropy', metrics=['acc'])\n",
    "history = model.fit(\n",
    "    x_train,\n",
    "    y_train,\n",
    "    epochs=10,\n",
    "    batch_size=32,\n",
    "    validation_data=(x_test, y_test)\n",
    ")"
   ]
  },
  {
   "cell_type": "code",
   "execution_count": 39,
   "id": "e8655614-0eb3-43ce-ae09-3c3b6d6d82a9",
   "metadata": {},
   "outputs": [
    {
     "name": "stdout",
     "output_type": "stream",
     "text": [
      "prediction:  [1 0]\n"
     ]
    }
   ],
   "source": [
    "review_test=[\"makanan dan minuman enak semua deh\"]\n",
    "review_tok=tokenizer.texts_to_sequences(review_test)\n",
    "review_pad=pad_sequences(review_tok,maxlen=31,padding='post')\n",
    "prediction=model.predict(review_pad).flatten()\n",
    "\n",
    "# Convert probabilities to binary class labels\n",
    "threshold = 0.5\n",
    "prediction = tf.nn.softmax(prediction)\n",
    "prediction = tf.where(prediction < threshold, 0, 1)\n",
    "\n",
    "print(\"prediction: \", prediction.numpy())\n",
    "# print(\"predicted_labels: \",predicted_labels)"
   ]
  },
  {
   "cell_type": "code",
   "execution_count": 34,
   "id": "a3346218-ec38-4f55-ba28-0832d8dcf38e",
   "metadata": {},
   "outputs": [],
   "source": [
    "model.save('aspek_makanan_4.h5')"
   ]
  },
  {
   "cell_type": "code",
   "execution_count": 38,
   "id": "9dae5e11-432a-48db-aebc-27e676909a6d",
   "metadata": {},
   "outputs": [
    {
     "name": "stdout",
     "output_type": "stream",
     "text": [
      "Predictions from aspek_makanan_4.h5:\n",
      "[[0.96988285 0.03011714]]\n",
      "\n",
      "Predictions from aspek_harga_3.h5:\n",
      "[[9.9962735e-01 3.7268706e-04]]\n",
      "\n"
     ]
    }
   ],
   "source": [
    "test_data = ['menu makanan bervariasi di restoran']\n",
    "test_data_tok=tokenizer.texts_to_sequences(test_data)\n",
    "test_data_pad=pad_sequences(test_data_tok,maxlen=31,padding='post')\n",
    "\n",
    "models = ['aspek_makanan_4.h5', 'aspek_harga_3.h5']  # List of model filenames\n",
    "predictions = []\n",
    "threshold = 0.5\n",
    "\n",
    "for model_filename in models:\n",
    "    model_all = tf.keras.models.load_model(model_filename)\n",
    "    model_predictions = model_all.predict(test_data_pad)\n",
    "    predictions.append(model_predictions)\n",
    "\n",
    "# Display the predictions\n",
    "for i, model_filename in enumerate(models):\n",
    "    print(f\"Predictions from {model_filename}:\")\n",
    "    print(predictions[i])\n",
    "    print()"
   ]
  },
  {
   "cell_type": "code",
   "execution_count": null,
   "id": "655978a1-0b48-4e80-97dc-9870cf58108f",
   "metadata": {},
   "outputs": [],
   "source": []
  }
 ],
 "metadata": {
  "kernelspec": {
   "display_name": "Python 3",
   "language": "python",
   "name": "python3"
  },
  "language_info": {
   "codemirror_mode": {
    "name": "ipython",
    "version": 3
   },
   "file_extension": ".py",
   "mimetype": "text/x-python",
   "name": "python",
   "nbconvert_exporter": "python",
   "pygments_lexer": "ipython3",
   "version": "3.9.5"
  }
 },
 "nbformat": 4,
 "nbformat_minor": 5
}
